{
 "cells": [
  {
   "cell_type": "markdown",
   "id": "a7160a89",
   "metadata": {},
   "source": [
    "## Retrieving Data from the Web"
   ]
  },
  {
   "cell_type": "markdown",
   "id": "d0f1a342",
   "metadata": {},
   "source": [
    "#### Libraries"
   ]
  },
  {
   "cell_type": "code",
   "execution_count": 1,
   "id": "b2ca7a54",
   "metadata": {},
   "outputs": [],
   "source": [
    "import requests\n",
    "from bs4 import BeautifulSoup\n",
    "import re\n",
    "from pprint import pprint "
   ]
  },
  {
   "cell_type": "markdown",
   "id": "8033a1b2",
   "metadata": {},
   "source": [
    "#### Get the page to BeautifulSoup"
   ]
  },
  {
   "cell_type": "code",
   "execution_count": 2,
   "id": "dcc893be",
   "metadata": {
    "scrolled": true
   },
   "outputs": [],
   "source": [
    "url = \"https://en.wikipedia.org/wiki/Madison,_Wisconsin\"\n",
    "res = requests.get(url)\n",
    "\n",
    "parsed = BeautifulSoup(res.text)"
   ]
  },
  {
   "cell_type": "markdown",
   "id": "df01a1a4",
   "metadata": {},
   "source": [
    "#### Some operations with BeautifulSoup"
   ]
  },
  {
   "cell_type": "code",
   "execution_count": 3,
   "id": "7284ec6c",
   "metadata": {},
   "outputs": [
    {
     "name": "stdout",
     "output_type": "stream",
     "text": [
      "('Madison, WisconsinState capital cityA view of the skyline of the Madison '\n",
      " 'Isthmus and Lake Mendota from Picnic Point\\n'\n",
      " 'FlagSealLogoNickname(s):\\xa0\"Madtown\", \"Mad City\", \"The City of Four Lakes\", '\n",
      " '\"77 Square Miles Surrounded by Reality\"[1]Location of Madison in Dane '\n",
      " 'County, Wisconsin.Madison, WisconsinLocation in Wisconsin, United States, '\n",
      " 'and North AmericaShow map of WisconsinMadison, WisconsinMadison, Wisconsin '\n",
      " '(the United States)Show map of the United StatesMadison, WisconsinMadison, '\n",
      " 'Wisconsin (North America)Show map of North AmericaCoordinates: 43°04′29″N '\n",
      " '89°23′03″W\\ufeff / \\ufeff43.07472°N 89.38417°W\\ufeff / 43.07472; '\n",
      " '-89.38417Coordinates: 43°04′29″N 89°23′03″W\\ufeff / \\ufeff43.07472°N '\n",
      " '89.38417°W\\ufeff / 43.07472; -89.38417CountryUnited '\n",
      " 'StatesStateWisconsinCountyDaneMunicipalityCityFounded1836Chartered1846Incorporated1856Named '\n",
      " 'forJames MadisonGovernment\\xa0•\\xa0MayorSatya Rhodes-Conway (D)\\xa0•\\xa0'\n",
      " 'BodyMadison Common CouncilArea[2]\\xa0•\\xa0City101.53\\xa0sq\\xa0mi (262.96\\xa0'\n",
      " 'km2)\\xa0•\\xa0Land79.57\\xa0sq\\xa0mi (206.09\\xa0km2)\\xa0•\\xa0Water21.96\\xa0'\n",
      " 'sq\\xa0mi (56.88\\xa0km2)Elevation873\\xa0ft (226\\xa0m)Population\\xa0'\n",
      " '(2010)[3]\\xa0•\\xa0City233,209\\xa0•\\xa0Estimate\\xa0(2019)[4]259,680\\xa0•\\xa0'\n",
      " 'RankUS: 82nd WI: 2nd\\xa0•\\xa0Density3,263.50/sq\\xa0mi (1,260.05/km2)\\xa0•\\xa0'\n",
      " 'Urban401,661 1 (US: 93rd)\\xa0•\\xa0Metro654,230 (US: 86th)\\xa0•\\xa0CSA880,520 '\n",
      " '(US: 61st)\\xa0•\\xa0DemonymMadisonianTime zoneUTC−6 (Central)\\xa0•\\xa0Summer '\n",
      " '(DST)UTC−5 (CDT)Zip Codes\\n'\n",
      " 'ZIP Codes[5]\\n'\n",
      " '53562, 53593, 53701, 53702, 53703, 53704, 53705, 53706, 53707, 53708, 53711, '\n",
      " '53713, 53714, 53715, 53716, 53717, 53718, 53719, 53726\\n'\n",
      " 'Area code608FIPS code55-48000GNIS feature ID1581834Websitecityofmadison.com1 '\n",
      " 'Urban = 2010 Census')\n"
     ]
    }
   ],
   "source": [
    "# get a title of a page\n",
    "parsed.title\n",
    "\n",
    "# get a name of a tag\n",
    "parsed.title.name\n",
    "\n",
    "# get a value of a tag\n",
    "parsed.title.string\n",
    "\n",
    "# find all 'a' tags\n",
    "parsed.find_all(['a', 'b'])\n",
    "\n",
    "# or using regex (finds all tags whose name match the given regex)\n",
    "parsed.find_all(re.compile(r'^b'))\n",
    "\n",
    "# or use a function\n",
    "def has_class_no_id(tag):\n",
    "    return tag.has_attr('class') and not tag.has_attr('id')\n",
    "\n",
    "parsed.find_all(has_class_no_id)\n",
    "\n",
    "# get links of all 'a' tags\n",
    "for link in parsed.find_all('a'):\n",
    "    if link.get('href') is not None:\n",
    "        if 'https' in link.get('href'):\n",
    "            pass\n",
    "            #print(link.get('href'))\n",
    "           \n",
    "        \n",
    "# get first element which has a tag 'p' and get its class\n",
    "parsed.p['class']\n",
    "\n",
    "# get iterator of children of table\n",
    "parsed.table.children\n",
    "\n",
    "# get generator of descendants of table\n",
    "next(parsed.table.descendants)\n",
    "\n",
    "# get a parent\n",
    "parsed.p.parent\n",
    "\n",
    "# get a tree structure of parents\n",
    "for parent in parsed.p.parent:\n",
    "    pass\n",
    "    #print(parent.name)\n",
    "    \n",
    "# get siblings\n",
    "parsed.p.previous_sibling\n",
    "parsed.p.next_sibling\n",
    "\n",
    "# get text\n",
    "pprint(parsed.table.get_text())"
   ]
  },
  {
   "cell_type": "markdown",
   "id": "29e90667",
   "metadata": {},
   "source": [
    "#### Find a table of temperature"
   ]
  },
  {
   "cell_type": "code",
   "execution_count": 4,
   "id": "caaaee3d",
   "metadata": {},
   "outputs": [
    {
     "name": "stdout",
     "output_type": "stream",
     "text": [
      "Table title:  None\n",
      "Number of chidren of this table:  2\n",
      "Number of parents of this table:  8\n",
      "Children's tags:  [None, 'tbody']\n"
     ]
    }
   ],
   "source": [
    "def get_temp_table(tag): \n",
    "    return tag.name == 'table' and \"Climate data for\" in tag.get_text()\n",
    "    \n",
    "temp_table = parsed.find_all(get_temp_table)[0]\n",
    "children_num = sum(1 for _ in temp_table.children)\n",
    "parents_num = sum(1 for _ in temp_table.parents)\n",
    "\n",
    "print(\"Table title: \", temp_table.title)\n",
    "print(\"Number of chidren of this table: \", children_num)\n",
    "print(\"Number of parents of this table: \", parents_num)\n",
    "print(\"Children's tags: \", [child.name for child in temp_table.children])"
   ]
  },
  {
   "cell_type": "markdown",
   "id": "1a16d13a",
   "metadata": {},
   "source": [
    "#### Get the temperature as a table"
   ]
  },
  {
   "cell_type": "code",
   "execution_count": 5,
   "id": "7def9862",
   "metadata": {
    "scrolled": true
   },
   "outputs": [
    {
     "data": {
      "text/plain": [
       "<tr style=\"text-align: center;\">\n",
       "<th scope=\"row\" style=\"height: 16px;\">Record high °F (°C)\n",
       "</th>\n",
       "<td style=\"background: #FF2C00; color:#000000;\">95<br/>(35)\n",
       "</td>\n",
       "<td style=\"background: #FF2C00; color:#000000;\">95<br/>(35)\n",
       "</td>\n",
       "<td style=\"background: #FF1F00; color:#000000;\">99<br/>(37)\n",
       "</td>\n",
       "<td style=\"background: #FF0300; color:#FFFFFF;\">106<br/>(41)\n",
       "</td>\n",
       "<td style=\"background: #FF1100; color:#FFFFFF;\">103<br/>(39)\n",
       "</td>\n",
       "<td style=\"background: #DC0000; color:#FFFFFF;\">112<br/>(44)\n",
       "</td>\n",
       "<td style=\"background: #EA0000; color:#FFFFFF;\">109<br/>(43)\n",
       "</td>\n",
       "<td style=\"background: #FF0300; color:#FFFFFF;\">106<br/>(41)\n",
       "</td>\n",
       "<td style=\"background: #CE0000; color:#FFFFFF;\">113<br/>(45)\n",
       "</td>\n",
       "<td style=\"background: #F80000; color:#FFFFFF;\">108<br/>(42)\n",
       "</td>\n",
       "<td style=\"background: #FF1800; color:#FFFFFF;\">100<br/>(38)\n",
       "</td>\n",
       "<td style=\"background: #FF3A00; color:#000000;\">92<br/>(33)\n",
       "</td>\n",
       "<td style=\"background: #CE0000; color:#FFFFFF; border-left-width:medium\">113<br/>(45)\n",
       "</td></tr>"
      ]
     },
     "execution_count": 5,
     "metadata": {},
     "output_type": "execute_result"
    }
   ],
   "source": [
    "def retrieve_climate_table(url):\n",
    "    '''\n",
    "        Function takes an url and returns a table that correspond to temperature of a specific city\n",
    "    '''\n",
    "    \n",
    "    try:\n",
    "        req = requests.get(url)\n",
    "        parsed = BeautifulSoup(req.text)\n",
    "    except:\n",
    "        raise ValueError('Wrong url')\n",
    "    \n",
    "    # if not found\n",
    "    if str(req.status_code)[0] != '2':\n",
    "        print(\"Error code: \", req.status_code)\n",
    "        return None\n",
    "\n",
    "    if len(parsed.find_all(get_temp_table)) == 0:\n",
    "        # no table which starts as \"Climate data for\" on the page\n",
    "        return None\n",
    "\n",
    "    for table in parsed.find_all(get_temp_table):\n",
    "        # get the first row and check if there is a \"Record high\"\n",
    "        if \"Record high\" in table.contents[1].contents[4].contents[1].get_text():\n",
    "            return table\n",
    "    \n",
    "    # nothing has been found\n",
    "    return None\n",
    "\n",
    "retrieve_climate_table('https://en.wikipedia.org/wiki/Los_Angeles').contents[1].contents[4]"
   ]
  },
  {
   "cell_type": "markdown",
   "id": "e7c10f3d",
   "metadata": {},
   "source": [
    "#### Retruns a list of row names of a \"Climate data for\" table"
   ]
  },
  {
   "cell_type": "code",
   "execution_count": 6,
   "id": "56720e4b",
   "metadata": {
    "scrolled": false
   },
   "outputs": [
    {
     "data": {
      "text/plain": [
       "['Record high °F (°C)',\n",
       " 'Mean maximum °F (°C)',\n",
       " 'Average high °F (°C)',\n",
       " 'Daily mean °F (°C)',\n",
       " 'Average low °F (°C)',\n",
       " 'Mean minimum °F (°C)',\n",
       " 'Record low °F (°C)',\n",
       " 'Average precipitation inches (mm)',\n",
       " 'Average snowfall inches (cm)',\n",
       " 'Average precipitation days (≥ 0.01 in)',\n",
       " 'Average snowy days (≥ 0.1 in)',\n",
       " 'Average relative humidity (%)',\n",
       " 'Average dew point °F (°C)',\n",
       " 'Mean monthly sunshine hours',\n",
       " 'Percent possible sunshine',\n",
       " 'Average ultraviolet index']"
      ]
     },
     "execution_count": 6,
     "metadata": {},
     "output_type": "execute_result"
    }
   ],
   "source": [
    "def list_climate_table_row_names(url):\n",
    "    '''\n",
    "        Function takes an url and returns a list of row names of a \"Climate data for\" table\n",
    "    '''\n",
    "    \n",
    "    # use previous function to get the table\n",
    "    table = retrieve_climate_table(url)\n",
    "    \n",
    "    # if no table was found\n",
    "    if table == None:\n",
    "        return None\n",
    "    \n",
    "    list_of_row_names = list()\n",
    "\n",
    "    # iterate over all rows\n",
    "    for row in table.contents[1].contents[4:]:\n",
    "        # skip the separator\n",
    "        if row != '\\n' and (not \"Source\" in row.get_text()):\n",
    "            list_of_row_names.append(row.contents[1].get_text().rstrip())\n",
    "\n",
    "    return list_of_row_names\n",
    "\n",
    "list_climate_table_row_names('https://en.wikipedia.org/wiki/Boston')"
   ]
  },
  {
   "cell_type": "markdown",
   "id": "d07299e3",
   "metadata": {},
   "source": [
    "#### Get the value of a specified row name from a \"Climate data for\" table"
   ]
  },
  {
   "cell_type": "code",
   "execution_count": 7,
   "id": "353b72bc",
   "metadata": {
    "scrolled": false
   },
   "outputs": [
    {
     "name": "stdout",
     "output_type": "stream",
     "text": [
      "−13.2(8.2)\n",
      "−0.7(30.7)\n",
      "57.8(14.3)\n"
     ]
    }
   ],
   "source": [
    "def get_value_from_row(url, row_name, column_name):\n",
    "    '''\n",
    "        Function takes an url, a row name and a column name and returns a value of a specified row from \n",
    "        a \"Climate data for\" table, which is taken from url\n",
    "        \n",
    "        Column name is the months from Jan to Dec and a Year\n",
    "    '''\n",
    "    \n",
    "    column_name_dic = {\n",
    "        'Jan': 3,\n",
    "        'Feb': 5,\n",
    "        'Mar': 7,\n",
    "        'Apr': 9,\n",
    "        'May': 11,\n",
    "        'Jun': 13,\n",
    "        'Jul': 15,\n",
    "        'Aug': 17,\n",
    "        'Sep': 19,\n",
    "        'Oct': 21,\n",
    "        'Nov': 23,\n",
    "        'Dec': 25,\n",
    "        'Year': 27,\n",
    "    }\n",
    "    \n",
    "    # use previous function to get the table\n",
    "    table = retrieve_climate_table(url)\n",
    "    \n",
    "    # if no table was found\n",
    "    if table == None:\n",
    "        return None\n",
    "\n",
    "    # iterate over all rows\n",
    "    for row in table.contents[1].contents[4:]:\n",
    "        # skip the separator\n",
    "        if row != '\\n' and (not \"Source\" in row.get_text()):\n",
    "            if (row.contents[1].get_text().rstrip() == row_name):\n",
    "                # found a row name. Return the value\n",
    "                return row.contents[column_name_dic[column_name]].get_text().rstrip()\n",
    "\n",
    "    # nothing has been found\n",
    "    return 'No column name'\n",
    "\n",
    "wiki_url = 'https://en.wikipedia.org/wiki/'\n",
    "print(get_value_from_row(wiki_url + 'Winnipeg', 'Daily mean °C (°F)', 'Dec'))\n",
    "print(get_value_from_row(wiki_url + 'Warsaw', 'Daily mean °C (°F)', 'Dec'))\n",
    "print(get_value_from_row(wiki_url + 'Los_Angeles', 'Daily mean °F (°C)', 'Dec'))"
   ]
  }
 ],
 "metadata": {
  "kernelspec": {
   "display_name": "Python 3",
   "language": "python",
   "name": "python3"
  },
  "language_info": {
   "codemirror_mode": {
    "name": "ipython",
    "version": 3
   },
   "file_extension": ".py",
   "mimetype": "text/x-python",
   "name": "python",
   "nbconvert_exporter": "python",
   "pygments_lexer": "ipython3",
   "version": "3.7.10"
  }
 },
 "nbformat": 4,
 "nbformat_minor": 5
}
