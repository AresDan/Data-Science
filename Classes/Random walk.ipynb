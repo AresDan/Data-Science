{
 "cells": [
  {
   "cell_type": "markdown",
   "id": "fc929f62",
   "metadata": {},
   "source": [
    "## Help functions"
   ]
  },
  {
   "cell_type": "code",
   "execution_count": 1,
   "id": "fdaca447",
   "metadata": {},
   "outputs": [],
   "source": [
    "def is_int(value):\n",
    "    return isinstance(value, int) \n",
    "\n",
    "def is_inf(value):\n",
    "    # chech if the number is infinity\n",
    "    return value == float('+Infinity')\n",
    "\n",
    "def is_non_negative_int_float(value): \n",
    "    return ((is_int(value) or is_float(value)) and value >= 0)\n",
    "\n",
    "def is_non_negative_int(value): \n",
    "    return (isinstance(value, int) and value >= 0)\n",
    "\n",
    "def is_float(value):\n",
    "    return isinstance(value, float)   \n",
    "\n",
    "def is_int_float(value):\n",
    "    return (is_int(value) or is_float(value)) \n",
    "\n",
    "def is_tuple(tup):\n",
    "    return isinstance(tup, tuple)\n",
    "\n",
    "def is_list(lis):\n",
    "    return isinstance(lis, list)\n",
    "\n",
    "def is_int_float_contain(numbers):\n",
    "    \n",
    "    for el in numbers:\n",
    "        if not is_int_float(el):\n",
    "            return False\n",
    "    \n",
    "    return True\n",
    "\n",
    "def is_Vector(vec):\n",
    "    return isinstance(vec, Vector)"
   ]
  },
  {
   "cell_type": "markdown",
   "id": "d68a64b2",
   "metadata": {},
   "source": [
    "# Random walk"
   ]
  },
  {
   "cell_type": "markdown",
   "id": "76a06234",
   "metadata": {},
   "source": [
    "##### Symmetric random walker"
   ]
  },
  {
   "cell_type": "code",
   "execution_count": 2,
   "id": "9a0bfc12",
   "metadata": {},
   "outputs": [],
   "source": [
    "import random\n",
    "\n",
    "class SymIntRW:\n",
    "    '''\n",
    "        Represents the symmetric random walker\n",
    "        \n",
    "        curr_pos: current position of the walker\n",
    "        history: history of walker's steps (last element of a list is the newest step)\n",
    "    '''\n",
    "    def __init__(self):\n",
    "        self.curr_pos = 0\n",
    "        self.history = list()\n",
    "        \n",
    "    # number of steps that the walker did\n",
    "    def get_time(self):\n",
    "        return len(self.history)\n",
    "        \n",
    "    # get the history\n",
    "    def get_history(self):\n",
    "        return self.history\n",
    "    \n",
    "    # get current position\n",
    "    def get_position(self):\n",
    "        return self.curr_pos\n",
    "    \n",
    "    # take a step\n",
    "    def step(self):\n",
    "        # append the current position to the history\n",
    "        self.history.append(self.curr_pos)\n",
    "        # generate a new position\n",
    "        self.curr_pos += random.choice([-1/2, 1/2])"
   ]
  },
  {
   "cell_type": "code",
   "execution_count": 7,
   "id": "a47e298c",
   "metadata": {},
   "outputs": [
    {
     "data": {
      "text/plain": [
       "[0,\n",
       " 0.5,\n",
       " 0.0,\n",
       " -0.5,\n",
       " 0.0,\n",
       " 0.5,\n",
       " 0.0,\n",
       " 0.5,\n",
       " 1.0,\n",
       " 1.5,\n",
       " 1.0,\n",
       " 0.5,\n",
       " 1.0,\n",
       " 1.5,\n",
       " 1.0,\n",
       " 0.5,\n",
       " 1.0,\n",
       " 1.5,\n",
       " 2.0,\n",
       " 2.5]"
      ]
     },
     "execution_count": 7,
     "metadata": {},
     "output_type": "execute_result"
    }
   ],
   "source": [
    "walker = SymIntRW()\n",
    "\n",
    "for _ in range(0, 20):\n",
    "    walker.step()\n",
    "    \n",
    "walker.get_history()"
   ]
  },
  {
   "cell_type": "markdown",
   "id": "8e6bd6b5",
   "metadata": {},
   "source": [
    "##### Different distributions random walk"
   ]
  },
  {
   "cell_type": "code",
   "execution_count": 8,
   "id": "f803a730",
   "metadata": {},
   "outputs": [],
   "source": [
    "def is_prob(p):\n",
    "    return (p >= 0 and p <= 1)"
   ]
  },
  {
   "cell_type": "code",
   "execution_count": 9,
   "id": "c682f9bd",
   "metadata": {},
   "outputs": [],
   "source": [
    "class IntegerRW(SymIntRW):\n",
    "    '''\n",
    "        Inherits simple Random Walk, but uses different distributions\n",
    "        \n",
    "        curr_pos: current position of the walker\n",
    "        history: history of walker's steps (last element of a list is the newest step)\n",
    "        p: probability\n",
    "    '''\n",
    "    def __init__(self, p=0.5):\n",
    "        \n",
    "        if not is_int_float(p):\n",
    "            raise TypeError('Probability should have the type of integer or float')\n",
    "            \n",
    "        if not is_prob(p):\n",
    "            raise ValueError('Probability should have the following range: [0, 1]')\n",
    "            \n",
    "        self.curr_pos = 0\n",
    "        self.history = list()\n",
    "        self.p = p\n",
    "    \n",
    "    # take a step\n",
    "    def step(self):\n",
    "        # append the current position to the history\n",
    "        self.history.append(self.curr_pos)\n",
    "        # generate a new position\n",
    "        self.curr_pos +=  -1/2 if random.random() <= self.p else 1/2      "
   ]
  },
  {
   "cell_type": "code",
   "execution_count": 12,
   "id": "4e36cc4e",
   "metadata": {},
   "outputs": [
    {
     "data": {
      "text/plain": [
       "[0,\n",
       " 0.5,\n",
       " 1.0,\n",
       " 1.5,\n",
       " 2.0,\n",
       " 2.5,\n",
       " 3.0,\n",
       " 3.5,\n",
       " 4.0,\n",
       " 4.5,\n",
       " 5.0,\n",
       " 5.5,\n",
       " 6.0,\n",
       " 6.5,\n",
       " 7.0,\n",
       " 7.5,\n",
       " 8.0,\n",
       " 8.5,\n",
       " 9.0,\n",
       " 9.5]"
      ]
     },
     "execution_count": 12,
     "metadata": {},
     "output_type": "execute_result"
    }
   ],
   "source": [
    "walker = IntegerRW(0.2)\n",
    "\n",
    "for _ in range(0, 20):\n",
    "    walker.step()\n",
    "    \n",
    "walker.get_history()"
   ]
  },
  {
   "cell_type": "markdown",
   "id": "23bbeb02",
   "metadata": {},
   "source": [
    "##### d-dimensional simple symmetric random walk (SSRW)"
   ]
  },
  {
   "cell_type": "code",
   "execution_count": 13,
   "id": "853371ac",
   "metadata": {},
   "outputs": [],
   "source": [
    "class SSRW(SymIntRW):\n",
    "    '''\n",
    "        Inherits Random Walk, but uses d-dimentions\n",
    "        \n",
    "        curr_pos: current position of the walker\n",
    "        history: history of walker's steps (last element of a list is the newest step)\n",
    "        p: probability\n",
    "    '''\n",
    "    def __init__(self, d=1):\n",
    "        \n",
    "        if not is_non_negative_int(d):\n",
    "            raise TypeError('Dimention should be a positive integer')\n",
    "            \n",
    "        self.curr_pos = [0] * d\n",
    "        self.history = list()\n",
    "        self.dim = d\n",
    "    \n",
    "    # take a step\n",
    "    def step(self):\n",
    "        # append the current position to the history\n",
    "        # using \"deep\" copy\n",
    "        self.history.append(self.curr_pos + [])\n",
    "        # generate a new position\n",
    "        for idx in range(0, len(self.curr_pos)):\n",
    "            self.curr_pos[idx] += random.choice([-1/2, 1/2]) "
   ]
  },
  {
   "cell_type": "code",
   "execution_count": 14,
   "id": "69054c19",
   "metadata": {},
   "outputs": [
    {
     "data": {
      "text/plain": [
       "[[0, 0, 0, 0, 0, 0, 0, 0, 0, 0],\n",
       " [0.5, 0.5, -0.5, -0.5, 0.5, -0.5, -0.5, -0.5, 0.5, 0.5],\n",
       " [0.0, 1.0, 0.0, 0.0, 0.0, -1.0, -1.0, 0.0, 1.0, 0.0],\n",
       " [0.5, 1.5, 0.5, -0.5, -0.5, -1.5, -0.5, 0.5, 0.5, 0.5],\n",
       " [1.0, 2.0, 0.0, 0.0, -1.0, -2.0, 0.0, 0.0, 1.0, 1.0],\n",
       " [0.5, 2.5, -0.5, 0.5, -0.5, -2.5, 0.5, 0.5, 0.5, 1.5],\n",
       " [1.0, 2.0, 0.0, 1.0, 0.0, -2.0, 0.0, 1.0, 0.0, 2.0],\n",
       " [1.5, 1.5, -0.5, 1.5, 0.5, -2.5, 0.5, 1.5, 0.5, 1.5],\n",
       " [1.0, 2.0, -1.0, 1.0, 1.0, -2.0, 0.0, 2.0, 0.0, 2.0],\n",
       " [1.5, 1.5, -1.5, 1.5, 0.5, -1.5, 0.5, 1.5, 0.5, 1.5],\n",
       " [1.0, 2.0, -2.0, 2.0, 1.0, -2.0, 1.0, 1.0, 1.0, 1.0],\n",
       " [0.5, 2.5, -2.5, 1.5, 0.5, -2.5, 1.5, 1.5, 1.5, 0.5],\n",
       " [1.0, 3.0, -2.0, 2.0, 1.0, -3.0, 1.0, 2.0, 2.0, 1.0],\n",
       " [0.5, 3.5, -1.5, 2.5, 0.5, -2.5, 1.5, 1.5, 1.5, 1.5],\n",
       " [0.0, 4.0, -1.0, 3.0, 1.0, -3.0, 2.0, 1.0, 2.0, 2.0],\n",
       " [0.5, 3.5, -0.5, 3.5, 0.5, -3.5, 2.5, 0.5, 1.5, 2.5],\n",
       " [0.0, 4.0, 0.0, 3.0, 0.0, -3.0, 3.0, 1.0, 2.0, 3.0],\n",
       " [-0.5, 4.5, -0.5, 2.5, 0.5, -3.5, 3.5, 0.5, 2.5, 2.5],\n",
       " [0.0, 4.0, 0.0, 3.0, 1.0, -4.0, 4.0, 1.0, 3.0, 2.0],\n",
       " [0.5, 4.5, 0.5, 2.5, 1.5, -4.5, 3.5, 0.5, 3.5, 1.5]]"
      ]
     },
     "execution_count": 14,
     "metadata": {},
     "output_type": "execute_result"
    }
   ],
   "source": [
    "walker = SSRW(10)\n",
    "\n",
    "for _ in range(0, 20):\n",
    "    walker.step()\n",
    "    \n",
    "walker.get_history()"
   ]
  }
 ],
 "metadata": {
  "kernelspec": {
   "display_name": "Python 3",
   "language": "python",
   "name": "python3"
  },
  "language_info": {
   "codemirror_mode": {
    "name": "ipython",
    "version": 3
   },
   "file_extension": ".py",
   "mimetype": "text/x-python",
   "name": "python",
   "nbconvert_exporter": "python",
   "pygments_lexer": "ipython3",
   "version": "3.7.10"
  }
 },
 "nbformat": 4,
 "nbformat_minor": 5
}
