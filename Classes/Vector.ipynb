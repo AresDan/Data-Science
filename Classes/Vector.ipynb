{
 "cells": [
  {
   "cell_type": "markdown",
   "id": "fc929f62",
   "metadata": {},
   "source": [
    "## Help functions"
   ]
  },
  {
   "cell_type": "code",
   "execution_count": 1,
   "id": "fdaca447",
   "metadata": {},
   "outputs": [],
   "source": [
    "def is_int(value):\n",
    "    return isinstance(value, int) \n",
    "\n",
    "def is_inf(value):\n",
    "    # chech if the number is infinity\n",
    "    return value == float('+Infinity')\n",
    "\n",
    "def is_non_negative_int_float(value): \n",
    "    return ((is_int(value) or is_float(value)) and value >= 0)\n",
    "\n",
    "def is_non_negative_int(value): \n",
    "    return (isinstance(value, int) and value >= 0)\n",
    "\n",
    "def is_float(value):\n",
    "    return isinstance(value, float)   \n",
    "\n",
    "def is_int_float(value):\n",
    "    return (is_int(value) or is_float(value)) \n",
    "\n",
    "def is_tuple(tup):\n",
    "    return isinstance(tup, tuple)\n",
    "\n",
    "def is_list(lis):\n",
    "    return isinstance(lis, list)\n",
    "\n",
    "def is_int_float_contain(numbers):\n",
    "    \n",
    "    for el in numbers:\n",
    "        if not is_int_float(el):\n",
    "            return False\n",
    "    \n",
    "    return True\n",
    "\n",
    "def is_Vector(vec):\n",
    "    return isinstance(vec, Vector)"
   ]
  },
  {
   "cell_type": "markdown",
   "id": "d68a64b2",
   "metadata": {},
   "source": [
    "## Vector class"
   ]
  },
  {
   "cell_type": "code",
   "execution_count": 2,
   "id": "643cf1a9",
   "metadata": {},
   "outputs": [],
   "source": [
    "class Vector:\n",
    "    '''\n",
    "        Class which describes the vector\n",
    "        \n",
    "        self.dim: dimention of vector\n",
    "        self.vector: vector representation\n",
    "    '''\n",
    "    \n",
    "    def __init__(self, dim, numbers=None):\n",
    "        if not is_non_negative_int(dim):\n",
    "             raise ValueError(\"Dimention should be a positive integer\")\n",
    "                 \n",
    "        if numbers is None:\n",
    "            # numbers is not defined\n",
    "            # create a vector of all zeros\n",
    "            self.dim = dim\n",
    "            self.vec = tuple([ 0 for _ in range(0, dim) ])\n",
    "        else:\n",
    "            # check if numbers is a tuple or a list\n",
    "            if (not (is_tuple(numbers) or is_list(numbers))):\n",
    "                raise TypeError('Numbers should be a type \"typle\" or a \"list\"')\n",
    "            # if numbers contains int or floats only\n",
    "            if (not is_int_float_contain(numbers)):\n",
    "                raise ValueError('Numbers should contain only integers or floats')\n",
    "                                 \n",
    "            # check if length of numbers is the same as dim\n",
    "            if dim != len(numbers):\n",
    "                raise ValueError(\"Provided dimention and numbers have different length\")\n",
    "            \n",
    "            # create a vector of the length dim, containing numbers\n",
    "            # ToDo\n",
    "            self.dim = dim\n",
    "            self.vec = tuple([ el for el in numbers ])\n",
    "    \n",
    "    def __eq__(self, other):\n",
    "        if len(self.vec) != len(other.vec):\n",
    "            raise ValueError(\"Vectors have different dimentions\")\n",
    "            \n",
    "        return self.vec == other.vec\n",
    "    \n",
    "    def __lt__(self, other):\n",
    "        if len(self.vec) != len(other.vec):\n",
    "            raise ValueError(\"Vectors have different dimentions\")\n",
    "            \n",
    "        return self.vec < other.vec\n",
    "    \n",
    "    def __gt__(self, other):\n",
    "        return other < self\n",
    "    \n",
    "    def __le__(self, other):\n",
    "        if len(self.vec) != len(other.vec):\n",
    "            raise ValueError(\"Vectors have different dimentions\")\n",
    "            \n",
    "        return self.vec < other.vec or self.vec == other.vec\n",
    "    \n",
    "    def __ge__(self, other):\n",
    "        return other < self\n",
    "    \n",
    "    def __add__(self, other):\n",
    "        add_vec = list()\n",
    "        \n",
    "        for (v1, v2) in zip(self.vec, other.vec):\n",
    "            add_vec.append(v1 + v2)\n",
    "\n",
    "        # if first vector is longer, then add first vector values, which were not added \n",
    "        if len(self.vec) > len(other.vec):\n",
    "            for el in range(len(other.vec), len(self.vec)):\n",
    "                add_vec.append(self.vec[el])\n",
    "            \n",
    "        # if second vector is longer, then add second vector values, which were not added \n",
    "        if len(self.vec) < len(other.vec):\n",
    "            for el in range(len(self.vec), len(other.vec)):\n",
    "                add_vec.append(other.vec[el])\n",
    "            \n",
    "        return tuple(add_vec)\n",
    "        \n",
    "    def __str__(self):\n",
    "        res = [ str(el) for el in self.vec ]\n",
    "        \n",
    "        return (', '.join(res))\n",
    "    \n",
    "    def __mul__(self, other):        \n",
    "        if is_Vector(other):\n",
    "            # v1 * v2\n",
    "            # check the lengths\n",
    "            if len(self.vec) != len(other.vec):\n",
    "                raise ValueError('Vectors should have different dimentions')\n",
    "            \n",
    "            vec_num = [ el1 * el2 for (el1, el2) in zip (self.vec, other.vec) ]\n",
    "            \n",
    "            return Vector(len(self.vec), vec_num)\n",
    "        elif is_int_float(other):\n",
    "            # num * v\n",
    "            vec_num = [ 2 * el for el in self.vec ]\n",
    "            \n",
    "            return Vector(len(self.vec), vec_num)\n",
    "        else:\n",
    "            raise TypeError('An input should be an integer, float or Vector type')\n",
    "        \n",
    "    def __rmul__(self, other):\n",
    "        return self * other\n",
    "    \n",
    "    def dot(self, other):\n",
    "        if not is_Vector(other):\n",
    "            raise TypeError('An input of type \"Vector\" is expected')\n",
    "            \n",
    "        if len(self.vec) != len(other.vec):\n",
    "            raise ValueError('Vectors should have different dimentions')\n",
    "            \n",
    "        return sum([ el1*el2 for (el1, el2) in zip(self.vec, other.vec) ])\n",
    "    \n",
    "    def norm(self, p):\n",
    "        if not is_non_negative_int_float(p):\n",
    "            raise ValueError('An input should be positive integer or float')\n",
    "            \n",
    "        # if a vector is empty, return 0\n",
    "        if len(self.vec) == 0:\n",
    "            return 0\n",
    "        \n",
    "        # if p is 0\n",
    "        if p == 0:\n",
    "            return sum([ el != 0 for el in self.vec ])\n",
    "        # if p is infinity\n",
    "        elif is_inf(p):\n",
    "            res = abs(self.vec[0])\n",
    "            \n",
    "            for el in self.vec[1:]:\n",
    "                if abs(el) > res:\n",
    "                    res = abs(el)\n",
    "            \n",
    "            return res\n",
    "        else:\n",
    "            # if 0 < p < +inf\n",
    "            res = sum([ abs(el) ** p for el in self.vec ]) ** (1/p)\n",
    "            \n",
    "            return res\n",
    "            "
   ]
  },
  {
   "cell_type": "markdown",
   "id": "3043a97c",
   "metadata": {},
   "source": [
    "## Experiments"
   ]
  },
  {
   "cell_type": "code",
   "execution_count": 3,
   "id": "a47e298c",
   "metadata": {},
   "outputs": [],
   "source": [
    "v1 = Vector(3, (20, 0, -12.192))\n",
    "v2 = Vector(3, [2, 2, 2])\n",
    "v3 = Vector(4, (90, 4, -0.12, 34))"
   ]
  },
  {
   "cell_type": "code",
   "execution_count": 4,
   "id": "84368ac8",
   "metadata": {},
   "outputs": [
    {
     "name": "stdout",
     "output_type": "stream",
     "text": [
      "True\n",
      "True\n"
     ]
    },
    {
     "ename": "ValueError",
     "evalue": "Vectors have different dimentions",
     "output_type": "error",
     "traceback": [
      "\u001b[1;31m---------------------------------------------------------------------------\u001b[0m",
      "\u001b[1;31mValueError\u001b[0m                                Traceback (most recent call last)",
      "\u001b[1;32m<ipython-input-4-39cb7b3d32c4>\u001b[0m in \u001b[0;36m<module>\u001b[1;34m\u001b[0m\n\u001b[0;32m      2\u001b[0m \u001b[0mprint\u001b[0m\u001b[1;33m(\u001b[0m\u001b[0mv1\u001b[0m \u001b[1;33m>\u001b[0m \u001b[0mv2\u001b[0m\u001b[1;33m)\u001b[0m\u001b[1;33m\u001b[0m\u001b[1;33m\u001b[0m\u001b[0m\n\u001b[0;32m      3\u001b[0m \u001b[0mprint\u001b[0m\u001b[1;33m(\u001b[0m\u001b[0mv2\u001b[0m \u001b[1;33m<=\u001b[0m \u001b[0mv1\u001b[0m\u001b[1;33m)\u001b[0m\u001b[1;33m\u001b[0m\u001b[1;33m\u001b[0m\u001b[0m\n\u001b[1;32m----> 4\u001b[1;33m \u001b[0mprint\u001b[0m\u001b[1;33m(\u001b[0m\u001b[0mv3\u001b[0m \u001b[1;33m==\u001b[0m \u001b[0mv1\u001b[0m\u001b[1;33m)\u001b[0m\u001b[1;33m\u001b[0m\u001b[1;33m\u001b[0m\u001b[0m\n\u001b[0m",
      "\u001b[1;32m<ipython-input-2-710058161da2>\u001b[0m in \u001b[0;36m__eq__\u001b[1;34m(self, other)\u001b[0m\n\u001b[0;32m     35\u001b[0m     \u001b[1;32mdef\u001b[0m \u001b[0m__eq__\u001b[0m\u001b[1;33m(\u001b[0m\u001b[0mself\u001b[0m\u001b[1;33m,\u001b[0m \u001b[0mother\u001b[0m\u001b[1;33m)\u001b[0m\u001b[1;33m:\u001b[0m\u001b[1;33m\u001b[0m\u001b[1;33m\u001b[0m\u001b[0m\n\u001b[0;32m     36\u001b[0m         \u001b[1;32mif\u001b[0m \u001b[0mlen\u001b[0m\u001b[1;33m(\u001b[0m\u001b[0mself\u001b[0m\u001b[1;33m.\u001b[0m\u001b[0mvec\u001b[0m\u001b[1;33m)\u001b[0m \u001b[1;33m!=\u001b[0m \u001b[0mlen\u001b[0m\u001b[1;33m(\u001b[0m\u001b[0mother\u001b[0m\u001b[1;33m.\u001b[0m\u001b[0mvec\u001b[0m\u001b[1;33m)\u001b[0m\u001b[1;33m:\u001b[0m\u001b[1;33m\u001b[0m\u001b[1;33m\u001b[0m\u001b[0m\n\u001b[1;32m---> 37\u001b[1;33m             \u001b[1;32mraise\u001b[0m \u001b[0mValueError\u001b[0m\u001b[1;33m(\u001b[0m\u001b[1;34m\"Vectors have different dimentions\"\u001b[0m\u001b[1;33m)\u001b[0m\u001b[1;33m\u001b[0m\u001b[1;33m\u001b[0m\u001b[0m\n\u001b[0m\u001b[0;32m     38\u001b[0m \u001b[1;33m\u001b[0m\u001b[0m\n\u001b[0;32m     39\u001b[0m         \u001b[1;32mreturn\u001b[0m \u001b[0mself\u001b[0m\u001b[1;33m.\u001b[0m\u001b[0mvec\u001b[0m \u001b[1;33m==\u001b[0m \u001b[0mother\u001b[0m\u001b[1;33m.\u001b[0m\u001b[0mvec\u001b[0m\u001b[1;33m\u001b[0m\u001b[1;33m\u001b[0m\u001b[0m\n",
      "\u001b[1;31mValueError\u001b[0m: Vectors have different dimentions"
     ]
    }
   ],
   "source": [
    "# comparison\n",
    "print(v1 > v2)\n",
    "print(v2 <= v1)\n",
    "print(v3 == v1)"
   ]
  },
  {
   "cell_type": "code",
   "execution_count": 5,
   "id": "f803a730",
   "metadata": {},
   "outputs": [
    {
     "name": "stdout",
     "output_type": "stream",
     "text": [
      "(22, 2, -10.192)\n",
      "(92, 6, 1.88, 34)\n"
     ]
    }
   ],
   "source": [
    "# addition\n",
    "print(v1 + v2)\n",
    "print(v2 + v3)"
   ]
  },
  {
   "cell_type": "code",
   "execution_count": 6,
   "id": "c682f9bd",
   "metadata": {},
   "outputs": [
    {
     "name": "stdout",
     "output_type": "stream",
     "text": [
      "40, 0, -24.384\n"
     ]
    }
   ],
   "source": [
    "# multiplication\n",
    "print(v1 * v2)"
   ]
  },
  {
   "cell_type": "code",
   "execution_count": 7,
   "id": "4e36cc4e",
   "metadata": {},
   "outputs": [
    {
     "name": "stdout",
     "output_type": "stream",
     "text": [
      "15.616\n"
     ]
    }
   ],
   "source": [
    "# dot operation\n",
    "print(\"%.3f\" % v1.dot(v2))"
   ]
  },
  {
   "cell_type": "code",
   "execution_count": 9,
   "id": "db5b5a61",
   "metadata": {},
   "outputs": [
    {
     "name": "stdout",
     "output_type": "stream",
     "text": [
      "2\n",
      "23.42316938418027\n",
      "20\n"
     ]
    }
   ],
   "source": [
    "# normalization\n",
    "print(v1.norm(0))\n",
    "print(v1.norm(2))\n",
    "print(v1.norm(float('+inf')))"
   ]
  }
 ],
 "metadata": {
  "kernelspec": {
   "display_name": "Python 3",
   "language": "python",
   "name": "python3"
  },
  "language_info": {
   "codemirror_mode": {
    "name": "ipython",
    "version": 3
   },
   "file_extension": ".py",
   "mimetype": "text/x-python",
   "name": "python",
   "nbconvert_exporter": "python",
   "pygments_lexer": "ipython3",
   "version": "3.7.10"
  }
 },
 "nbformat": 4,
 "nbformat_minor": 5
}
