{
 "cells": [
  {
   "cell_type": "code",
   "execution_count": 1,
   "id": "363fdd67",
   "metadata": {},
   "outputs": [],
   "source": [
    "def is_string(string):\n",
    "    return isinstance(string, str)\n",
    "\n",
    "def is_int(num):\n",
    "    return isinstance(num, int)\n",
    "\n",
    "def is_positive_int(num):\n",
    "    return is_int(num) and num >=0"
   ]
  },
  {
   "cell_type": "code",
   "execution_count": 2,
   "id": "c939f14e",
   "metadata": {},
   "outputs": [],
   "source": [
    "import re\n",
    "import pickle\n",
    "\n",
    "def count_bigrams_in_file(file_name):\n",
    "    '''\n",
    "        Function creates a bigram of words from selected file and returns it as a dict where keys are bigram,\n",
    "        and values are its appearance in the text. The output is saved to a pickle file.\n",
    "    \n",
    "        input:\n",
    "            file_name: name of a given file\n",
    "        output:\n",
    "            dict_bigram: dictionary of bigram words\n",
    "    '''\n",
    "    \n",
    "    # check input\n",
    "    if not (is_string(file_name)) :\n",
    "        raise TypeError('Input file should be in string format')\n",
    "        \n",
    "    dict_bigram = dict()\n",
    "    prev_word = \"\"\n",
    "    \n",
    "    # open file\n",
    "    try:\n",
    "        file_read = open(file_name)\n",
    "    except:\n",
    "        raise FileExistsError(\"File \" + file_name + \" does not exist\")\n",
    "        \n",
    "    for line in file_read:\n",
    "        # split string to get list of words\n",
    "        preprocessed_line = re.sub(r'[^\\w\\s]', '', line.lower()).split()\n",
    "        \n",
    "        # if no elements left after preprocessing, continue\n",
    "        if len(preprocessed_line) == 0:\n",
    "            continue\n",
    "        \n",
    "        # check the first word with prev. word\n",
    "        if prev_word != \"\":\n",
    "            # get a tuple\n",
    "            elem = (prev_word, preprocessed_line[0])\n",
    "\n",
    "            if dict_bigram.get(elem) == None:\n",
    "                # if a new bigram, add it to dict\n",
    "                dict_bigram[elem] = 1\n",
    "            else:\n",
    "                # if exists, add 1\n",
    "                dict_bigram[elem] += 1\n",
    "        prev_word = preprocessed_line[-1]\n",
    "\n",
    "        # walk through the line\n",
    "        for idx in range(len(preprocessed_line) - 1):\n",
    "            # get 2 close words as a tuple\n",
    "            elem = (preprocessed_line[idx],  preprocessed_line[idx + 1])\n",
    "\n",
    "            if dict_bigram.get(elem) == None:\n",
    "                # if a new bigram, add it to dict\n",
    "                dict_bigram[elem] = 1\n",
    "            else:\n",
    "                # if exists, add 1\n",
    "                dict_bigram[elem] += 1\n",
    "        \n",
    "    file_read.close()\n",
    "    \n",
    "    with open('WandP.bigrams.pickle', 'wb') as handle:\n",
    "        pickle.dump(dict_bigram, handle, protocol=0)\n"
   ]
  },
  {
   "cell_type": "code",
   "execution_count": 3,
   "id": "1ecd633e",
   "metadata": {},
   "outputs": [
    {
     "ename": "FileExistsError",
     "evalue": "File 1.txt does not exist",
     "output_type": "error",
     "traceback": [
      "\u001b[1;31m---------------------------------------------------------------------------\u001b[0m",
      "\u001b[1;31mFileNotFoundError\u001b[0m                         Traceback (most recent call last)",
      "\u001b[1;32m<ipython-input-2-4ccd8ab46877>\u001b[0m in \u001b[0;36mcount_bigrams_in_file\u001b[1;34m(file_name)\u001b[0m\n\u001b[0;32m     23\u001b[0m     \u001b[1;32mtry\u001b[0m\u001b[1;33m:\u001b[0m\u001b[1;33m\u001b[0m\u001b[1;33m\u001b[0m\u001b[0m\n\u001b[1;32m---> 24\u001b[1;33m         \u001b[0mfile_read\u001b[0m \u001b[1;33m=\u001b[0m \u001b[0mopen\u001b[0m\u001b[1;33m(\u001b[0m\u001b[0mfile_name\u001b[0m\u001b[1;33m)\u001b[0m\u001b[1;33m\u001b[0m\u001b[1;33m\u001b[0m\u001b[0m\n\u001b[0m\u001b[0;32m     25\u001b[0m     \u001b[1;32mexcept\u001b[0m\u001b[1;33m:\u001b[0m\u001b[1;33m\u001b[0m\u001b[1;33m\u001b[0m\u001b[0m\n",
      "\u001b[1;31mFileNotFoundError\u001b[0m: [Errno 2] No such file or directory: '1.txt'",
      "\nDuring handling of the above exception, another exception occurred:\n",
      "\u001b[1;31mFileExistsError\u001b[0m                           Traceback (most recent call last)",
      "\u001b[1;32m<ipython-input-3-0febb5af62e0>\u001b[0m in \u001b[0;36m<module>\u001b[1;34m\u001b[0m\n\u001b[1;32m----> 1\u001b[1;33m \u001b[0mcount_bigrams_in_file\u001b[0m\u001b[1;33m(\u001b[0m\u001b[1;34m'1.txt'\u001b[0m\u001b[1;33m)\u001b[0m\u001b[1;33m\u001b[0m\u001b[1;33m\u001b[0m\u001b[0m\n\u001b[0m\u001b[0;32m      2\u001b[0m \u001b[1;33m\u001b[0m\u001b[0m\n\u001b[0;32m      3\u001b[0m \u001b[1;32mwith\u001b[0m \u001b[0mopen\u001b[0m\u001b[1;33m(\u001b[0m\u001b[1;34m'WandP.bigrams.pickle'\u001b[0m\u001b[1;33m,\u001b[0m \u001b[1;34m'rb'\u001b[0m\u001b[1;33m)\u001b[0m \u001b[1;32mas\u001b[0m \u001b[0mhandle\u001b[0m\u001b[1;33m:\u001b[0m\u001b[1;33m\u001b[0m\u001b[1;33m\u001b[0m\u001b[0m\n\u001b[0;32m      4\u001b[0m     \u001b[0mdic_pickled\u001b[0m \u001b[1;33m=\u001b[0m \u001b[0mpickle\u001b[0m\u001b[1;33m.\u001b[0m\u001b[0mload\u001b[0m\u001b[1;33m(\u001b[0m\u001b[0mhandle\u001b[0m\u001b[1;33m)\u001b[0m\u001b[1;33m\u001b[0m\u001b[1;33m\u001b[0m\u001b[0m\n\u001b[0;32m      5\u001b[0m \u001b[1;33m\u001b[0m\u001b[0m\n",
      "\u001b[1;32m<ipython-input-2-4ccd8ab46877>\u001b[0m in \u001b[0;36mcount_bigrams_in_file\u001b[1;34m(file_name)\u001b[0m\n\u001b[0;32m     24\u001b[0m         \u001b[0mfile_read\u001b[0m \u001b[1;33m=\u001b[0m \u001b[0mopen\u001b[0m\u001b[1;33m(\u001b[0m\u001b[0mfile_name\u001b[0m\u001b[1;33m)\u001b[0m\u001b[1;33m\u001b[0m\u001b[1;33m\u001b[0m\u001b[0m\n\u001b[0;32m     25\u001b[0m     \u001b[1;32mexcept\u001b[0m\u001b[1;33m:\u001b[0m\u001b[1;33m\u001b[0m\u001b[1;33m\u001b[0m\u001b[0m\n\u001b[1;32m---> 26\u001b[1;33m         \u001b[1;32mraise\u001b[0m \u001b[0mFileExistsError\u001b[0m\u001b[1;33m(\u001b[0m\u001b[1;34m\"File \"\u001b[0m \u001b[1;33m+\u001b[0m \u001b[0mfile_name\u001b[0m \u001b[1;33m+\u001b[0m \u001b[1;34m\" does not exist\"\u001b[0m\u001b[1;33m)\u001b[0m\u001b[1;33m\u001b[0m\u001b[1;33m\u001b[0m\u001b[0m\n\u001b[0m\u001b[0;32m     27\u001b[0m \u001b[1;33m\u001b[0m\u001b[0m\n\u001b[0;32m     28\u001b[0m     \u001b[1;32mfor\u001b[0m \u001b[0mline\u001b[0m \u001b[1;32min\u001b[0m \u001b[0mfile_read\u001b[0m\u001b[1;33m:\u001b[0m\u001b[1;33m\u001b[0m\u001b[1;33m\u001b[0m\u001b[0m\n",
      "\u001b[1;31mFileExistsError\u001b[0m: File 1.txt does not exist"
     ]
    }
   ],
   "source": [
    "count_bigrams_in_file('1.txt')\n",
    "\n",
    "with open('WandP.bigrams.pickle', 'rb') as handle:\n",
    "    dic_pickled = pickle.load(handle)\n",
    "    \n",
    "print(dic_pickled)"
   ]
  },
  {
   "cell_type": "code",
   "execution_count": null,
   "id": "c1284cf1",
   "metadata": {},
   "outputs": [],
   "source": []
  }
 ],
 "metadata": {
  "kernelspec": {
   "display_name": "Python 3",
   "language": "python",
   "name": "python3"
  },
  "language_info": {
   "codemirror_mode": {
    "name": "ipython",
    "version": 3
   },
   "file_extension": ".py",
   "mimetype": "text/x-python",
   "name": "python",
   "nbconvert_exporter": "python",
   "pygments_lexer": "ipython3",
   "version": "3.7.10"
  }
 },
 "nbformat": 4,
 "nbformat_minor": 5
}
