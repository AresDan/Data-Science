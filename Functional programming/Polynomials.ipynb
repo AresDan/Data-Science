{
 "cells": [
  {
   "cell_type": "markdown",
   "id": "d23a3979",
   "metadata": {},
   "source": [
    "## Fun with Polynomials"
   ]
  },
  {
   "cell_type": "markdown",
   "id": "48a512a3",
   "metadata": {},
   "source": [
    "##### Help functions"
   ]
  },
  {
   "cell_type": "code",
   "execution_count": 1,
   "id": "02d5a0b9",
   "metadata": {},
   "outputs": [],
   "source": [
    "def is_int(value):\n",
    "    return isinstance(value, int) \n",
    "\n",
    "def is_float(value):\n",
    "    return isinstance(value, float)   \n",
    "\n",
    "def is_int_float(value):\n",
    "    return (is_int(value) or is_float(value)) \n",
    "\n",
    "def is_list(lis):\n",
    "    return isinstance(lis, list)"
   ]
  },
  {
   "cell_type": "markdown",
   "id": "42bac258",
   "metadata": {},
   "source": [
    "##### Simple polynomial"
   ]
  },
  {
   "cell_type": "code",
   "execution_count": 2,
   "id": "a0eec9f2",
   "metadata": {},
   "outputs": [],
   "source": [
    "import functools\n",
    "# for addition\n",
    "import operator\n",
    "\n",
    "def make_poly(coeffs):\n",
    "    '''\n",
    "        Returns a function p, which calculates a polynomial of a given x and coefficients\n",
    "        \n",
    "        input: \n",
    "            coeffs: coefficients\n",
    "        output:\n",
    "            p(x): function\n",
    "    '''\n",
    "    # error checking\n",
    "    if not is_list(coeffs):\n",
    "        raise TypeError('Input should be a type of list')\n",
    "        \n",
    "    for el in coeffs:\n",
    "        if not is_int_float(el):\n",
    "            raise TypeError('All coefficients should be a type of an integer or a float')\n",
    "    \n",
    "    # function starts\n",
    "    def p(x):\n",
    "        if not is_int_float(x):\n",
    "            raise TypeError('Input value should be a type of an integer of a float')\n",
    "        #      reduce by addition           a list of polynomial =  a * x**n     for n from 0 to len(coeffs)\n",
    "        return functools.reduce(operator.add, list(map(lambda a, n: a * x**n, coeffs, range(0, len(coeffs)))))\n",
    "        \n",
    "    return p\n"
   ]
  },
  {
   "cell_type": "code",
   "execution_count": 3,
   "id": "e364f17c",
   "metadata": {},
   "outputs": [
    {
     "data": {
      "text/plain": [
       "12.0"
      ]
     },
     "execution_count": 3,
     "metadata": {},
     "output_type": "execute_result"
    }
   ],
   "source": [
    "# 1*2^0 + 1*2*1 + 9/4*2^2 = 1 + 2 + 9 = 12\n",
    "poly = make_poly([1, 1, 9/4])\n",
    "poly(2)"
   ]
  },
  {
   "cell_type": "markdown",
   "id": "91a61758",
   "metadata": {},
   "source": [
    "##### Adds 2 polynomials"
   ]
  },
  {
   "cell_type": "code",
   "execution_count": 4,
   "id": "081e3cd8",
   "metadata": {},
   "outputs": [],
   "source": [
    "import functools\n",
    "# for addition\n",
    "import operator\n",
    "\n",
    "def eval_poly(coeffs, args):\n",
    "    '''\n",
    "        Returns a list of calculated polynomials with given coefficients and arguments (x-s)\n",
    "        \n",
    "        input: \n",
    "            coeffs: coefficients\n",
    "            args: values of x\n",
    "        output:\n",
    "            list of calculated polynomials\n",
    "    '''\n",
    "    # error checking\n",
    "    if not (is_list(coeffs) and is_list(args)):\n",
    "        raise TypeError('Input should be a type of list')\n",
    "        \n",
    "    for el in coeffs:\n",
    "        if not is_int_float(el):\n",
    "            raise TypeError('All coefficients should be a type of an integer or a float')\n",
    "        \n",
    "    for el in args:\n",
    "        if not is_int_float(el):\n",
    "            raise TypeError('All coefficients should be a type of an integer or a float')\n",
    "    \n",
    "    # function starts        \n",
    "    return list(map(make_poly(coeffs), args))"
   ]
  },
  {
   "cell_type": "code",
   "execution_count": 5,
   "id": "bdaa3dc7",
   "metadata": {},
   "outputs": [
    {
     "data": {
      "text/plain": [
       "[12.0, 24.25, 41.0]"
      ]
     },
     "execution_count": 5,
     "metadata": {},
     "output_type": "execute_result"
    }
   ],
   "source": [
    "# 1*2^0 + 1*2*1 + 9/4*2^2 = 1 + 2 + 9 = 12\n",
    "# 1*3^0 + 1*3*1 + 9/4*3^2 = 1 + 3 + 20.25 = 24.25\n",
    "# 1*4^0 + 1*4*1 + 9/4*4^2 = 1 + 4 + 36 = 41\n",
    "list_poly = eval_poly([1, 1, 9/4], [2, 3, 4])\n",
    "list_poly"
   ]
  }
 ],
 "metadata": {
  "kernelspec": {
   "display_name": "Python 3",
   "language": "python",
   "name": "python3"
  },
  "language_info": {
   "codemirror_mode": {
    "name": "ipython",
    "version": 3
   },
   "file_extension": ".py",
   "mimetype": "text/x-python",
   "name": "python",
   "nbconvert_exporter": "python",
   "pygments_lexer": "ipython3",
   "version": "3.7.10"
  }
 },
 "nbformat": 4,
 "nbformat_minor": 5
}
