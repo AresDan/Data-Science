{
 "cells": [
  {
   "cell_type": "markdown",
   "id": "5d88b955",
   "metadata": {},
   "source": [
    "## Help Functions"
   ]
  },
  {
   "cell_type": "markdown",
   "id": "0cc00d2d",
   "metadata": {},
   "source": [
    "##### Generator of prime numbers"
   ]
  },
  {
   "cell_type": "code",
   "execution_count": 1,
   "id": "db42a338",
   "metadata": {},
   "outputs": [],
   "source": [
    "# generator of prime numbers\n",
    "def prime():\n",
    "    '''\n",
    "        Generator that generates prime numbers\n",
    "    '''\n",
    "    num = 2\n",
    "    while True:\n",
    "        # if prime => yield\n",
    "        if not any([ num % n == 0 for n in range(2, int(num**(1/2)) + 1) ]):\n",
    "            yield num\n",
    "        num += 1"
   ]
  },
  {
   "cell_type": "markdown",
   "id": "251d8eee",
   "metadata": {},
   "source": [
    "##### Generator of tetrahedral numbers"
   ]
  },
  {
   "cell_type": "code",
   "execution_count": 3,
   "id": "3ec12b9a",
   "metadata": {},
   "outputs": [],
   "source": [
    "def factorial(x):\n",
    "    fact = 1\n",
    "    \n",
    "    for num in range(2, x + 1):\n",
    "        fact *= num\n",
    "    \n",
    "    return fact\n",
    "\n",
    "def tetrahedral_num():\n",
    "    n = 1\n",
    "    \n",
    "    while True:\n",
    "        yield int(factorial(n + 2) / (factorial(3) * factorial(n - 1)))\n",
    "        n += 1"
   ]
  },
  {
   "cell_type": "markdown",
   "id": "a9b88001",
   "metadata": {},
   "source": [
    "## Map, Filter and Reduce"
   ]
  },
  {
   "cell_type": "markdown",
   "id": "eece08fd",
   "metadata": {},
   "source": [
    "##### Computes the sum of first 10 square even numbers"
   ]
  },
  {
   "cell_type": "code",
   "execution_count": 4,
   "id": "6a20108d",
   "metadata": {},
   "outputs": [
    {
     "data": {
      "text/plain": [
       "220"
      ]
     },
     "execution_count": 4,
     "metadata": {},
     "output_type": "execute_result"
    }
   ],
   "source": [
    "sum_of_even_squares = sum(list(filter(lambda x: x % 2 == 0, (x**2 for x in range(2, 11)))))\n",
    "sum_of_even_squares"
   ]
  },
  {
   "cell_type": "markdown",
   "id": "8e2ee599",
   "metadata": {},
   "source": [
    "##### Product of first 13 primes"
   ]
  },
  {
   "cell_type": "code",
   "execution_count": 5,
   "id": "d66093a4",
   "metadata": {},
   "outputs": [
    {
     "data": {
      "text/plain": [
       "304250263527210"
      ]
     },
     "execution_count": 5,
     "metadata": {},
     "output_type": "execute_result"
    }
   ],
   "source": [
    "import functools\n",
    "\n",
    "gen = prime()\n",
    "product_of_primes = functools.reduce(lambda x, y: x*y, [ next(gen) for el in range(13)])\n",
    "product_of_primes"
   ]
  },
  {
   "cell_type": "markdown",
   "id": "b0319838",
   "metadata": {},
   "source": [
    "##### Sum of the squares of the first 31 primes"
   ]
  },
  {
   "cell_type": "code",
   "execution_count": 6,
   "id": "c8e9317c",
   "metadata": {},
   "outputs": [
    {
     "data": {
      "text/plain": [
       "138834"
      ]
     },
     "execution_count": 6,
     "metadata": {},
     "output_type": "execute_result"
    }
   ],
   "source": [
    "import functools\n",
    "\n",
    "gen = prime()\n",
    "squared_primes = functools.reduce(lambda x, y: x+y**2, [ next(gen) for _ in range(31)], 0)\n",
    "squared_primes"
   ]
  },
  {
   "cell_type": "markdown",
   "id": "b1f613f2",
   "metadata": {},
   "source": [
    "##### List of the first 20 harmonic numbers"
   ]
  },
  {
   "cell_type": "code",
   "execution_count": 7,
   "id": "5bb1e7c6",
   "metadata": {},
   "outputs": [
    {
     "data": {
      "text/plain": [
       "[1.0,\n",
       " 0.5,\n",
       " 0.3333333333333333,\n",
       " 0.25,\n",
       " 0.2,\n",
       " 0.16666666666666666,\n",
       " 0.14285714285714285,\n",
       " 0.125,\n",
       " 0.1111111111111111,\n",
       " 0.1,\n",
       " 0.09090909090909091,\n",
       " 0.08333333333333333,\n",
       " 0.07692307692307693,\n",
       " 0.07142857142857142,\n",
       " 0.06666666666666667,\n",
       " 0.0625,\n",
       " 0.058823529411764705,\n",
       " 0.05555555555555555,\n",
       " 0.05263157894736842,\n",
       " 0.05]"
      ]
     },
     "execution_count": 7,
     "metadata": {},
     "output_type": "execute_result"
    }
   ],
   "source": [
    "harmonics = list(map(lambda x: 1/x, range(1, 21)))\n",
    "harmonics"
   ]
  },
  {
   "cell_type": "markdown",
   "id": "2b2643fe",
   "metadata": {},
   "source": [
    "##### Computes the geometric mean of the first 12 tetrahedral numbers"
   ]
  },
  {
   "cell_type": "code",
   "execution_count": 8,
   "id": "5e21aa6f",
   "metadata": {},
   "outputs": [
    {
     "data": {
      "text/plain": [
       "13.333333333333334"
      ]
     },
     "execution_count": 8,
     "metadata": {},
     "output_type": "execute_result"
    }
   ],
   "source": [
    "import functools\n",
    "\n",
    "tetra = tetrahedral_num()\n",
    "num = 3\n",
    "\n",
    "tetra_geom = functools.reduce(lambda x, y: x*y, [ next(tetra) for _ in range(num)])**1/num\n",
    "tetra_geom"
   ]
  }
 ],
 "metadata": {
  "kernelspec": {
   "display_name": "Python 3",
   "language": "python",
   "name": "python3"
  },
  "language_info": {
   "codemirror_mode": {
    "name": "ipython",
    "version": 3
   },
   "file_extension": ".py",
   "mimetype": "text/x-python",
   "name": "python",
   "nbconvert_exporter": "python",
   "pygments_lexer": "ipython3",
   "version": "3.7.10"
  }
 },
 "nbformat": 4,
 "nbformat_minor": 5
}
