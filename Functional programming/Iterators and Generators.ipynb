{
 "cells": [
  {
   "cell_type": "markdown",
   "id": "84ceddb6",
   "metadata": {},
   "source": [
    "# Help functions"
   ]
  },
  {
   "cell_type": "code",
   "execution_count": 1,
   "id": "f3b7e7af",
   "metadata": {},
   "outputs": [],
   "source": [
    "def is_non_negative_int(value): \n",
    "    return (isinstance(value, int) and value >= 0)"
   ]
  },
  {
   "cell_type": "markdown",
   "id": "07449029",
   "metadata": {},
   "source": [
    "## Iterators"
   ]
  },
  {
   "cell_type": "code",
   "execution_count": 2,
   "id": "c85a9396",
   "metadata": {},
   "outputs": [],
   "source": [
    "class Fibo:\n",
    "    '''\n",
    "        Class produces Fibonacci numbers\n",
    "    '''\n",
    "    def __init__(self):\n",
    "        self.prev = 0\n",
    "        self.curr = 1\n",
    "        \n",
    "    def __next__(self):\n",
    "        fib = self.prev\n",
    "        (self.prev, self.curr) = (self.curr, self.prev + self.curr)\n",
    "        return fib\n",
    "        \n",
    "    def __iter__(self):\n",
    "        return self"
   ]
  },
  {
   "cell_type": "code",
   "execution_count": 3,
   "id": "dc16364f",
   "metadata": {},
   "outputs": [
    {
     "name": "stdout",
     "output_type": "stream",
     "text": [
      "[0, 1, 1, 2, 3, 5, 8, 13, 21, 34]\n",
      "[55, 89, 144, 233, 377, 610, 987, 1597, 2584, 4181]\n"
     ]
    }
   ],
   "source": [
    "fib = Fibo()\n",
    "print([ next(fib) for _ in range(10) ])\n",
    "print([ next(fib) for _ in range(10) ])"
   ]
  },
  {
   "cell_type": "code",
   "execution_count": 4,
   "id": "7777daf6",
   "metadata": {},
   "outputs": [],
   "source": [
    "class GenFibo(Fibo):\n",
    "    '''\n",
    "        Class produces alike Fibonacci numbers, but initial values can be specified\n",
    "    '''\n",
    "    def __init__(self, prev=0, curr=1):\n",
    "        if not (is_non_negative_int(prev) and is_non_negative_int(curr)):\n",
    "             raise ValueError(\"First 2 numbers should be a positive integers\")\n",
    "                \n",
    "        self.prev = prev\n",
    "        self.curr = curr"
   ]
  },
  {
   "cell_type": "code",
   "execution_count": 5,
   "id": "f378f7c4",
   "metadata": {},
   "outputs": [
    {
     "name": "stdout",
     "output_type": "stream",
     "text": [
      "[2, 1, 3, 4, 7, 11, 18, 29, 47, 76]\n",
      "[123, 199, 322, 521, 843, 1364, 2207, 3571, 5778, 9349]\n"
     ]
    }
   ],
   "source": [
    "genfib = GenFibo(2, 1)\n",
    "print([ next(genfib) for _ in range(10) ])\n",
    "print([ next(genfib) for _ in range(10) ])"
   ]
  },
  {
   "cell_type": "markdown",
   "id": "9462fbd8",
   "metadata": {},
   "source": [
    "## Generators"
   ]
  },
  {
   "cell_type": "markdown",
   "id": "e33cb7c7",
   "metadata": {},
   "source": [
    "##### Generator of prime numbers"
   ]
  },
  {
   "cell_type": "code",
   "execution_count": 6,
   "id": "e63f6a90",
   "metadata": {},
   "outputs": [],
   "source": [
    "# generator of prime numbers\n",
    "def prime():\n",
    "    '''\n",
    "        Generator that generates prime numbers\n",
    "    '''\n",
    "    num = 2\n",
    "    while True:\n",
    "        # if prime => yield\n",
    "        if not any([ num % n == 0 for n in range(2, int(num**(1/2)) + 1) ]):\n",
    "            yield num\n",
    "        num += 1"
   ]
  },
  {
   "cell_type": "code",
   "execution_count": 7,
   "id": "a0796d16",
   "metadata": {},
   "outputs": [
    {
     "name": "stdout",
     "output_type": "stream",
     "text": [
      "[2, 3, 5, 7, 11, 13, 17, 19, 23, 29]\n",
      "[31, 37, 41, 43, 47, 53, 59, 61, 67, 71]\n"
     ]
    }
   ],
   "source": [
    "gen = prime()\n",
    "print([ next(gen) for el in range(10)])\n",
    "print([ next(gen) for el in range(10)])"
   ]
  },
  {
   "cell_type": "markdown",
   "id": "6c5fc2c3",
   "metadata": {},
   "source": [
    "##### Generator of Ulam numbers"
   ]
  },
  {
   "cell_type": "code",
   "execution_count": 8,
   "id": "d4ebd89e",
   "metadata": {},
   "outputs": [],
   "source": [
    "def is_ulam_num(ul_list, num):\n",
    "    '''\n",
    "        Function checks whether num appears as a sum of 2 distinc number exactly 1 time\n",
    "    '''\n",
    "    \n",
    "    is_ulam = False\n",
    "    head = 0\n",
    "    tail = 1\n",
    "    \n",
    "    # while we don't reach the end\n",
    "    while head != (len(ul_list) - 1):\n",
    "        if ul_list[head] + ul_list[tail] == num:\n",
    "            if is_ulam:\n",
    "                # it is already the second set of numbers that have the same sum. Return False\n",
    "                return False\n",
    "            \n",
    "            is_ulam = True\n",
    "        \n",
    "        if tail != (len(ul_list) - 1):\n",
    "            # we did not reach the end with tail variable\n",
    "            tail += 1\n",
    "        else:\n",
    "            # increase head and tail\n",
    "            head += 1\n",
    "            tail = head + 1\n",
    "        \n",
    "    return is_ulam\n",
    "\n",
    "def ulam_num():\n",
    "    '''\n",
    "        Generator that generates Ulam numbers\n",
    "    '''\n",
    "    # init Ulam numbers list\n",
    "    u = [1]\n",
    "    # return first num\n",
    "    yield u[0]\n",
    "    u.append(2)\n",
    "    # return second num\n",
    "    yield u[1]\n",
    "    # current number to check\n",
    "    num = 3\n",
    "    \n",
    "    # loop over all numbers\n",
    "    while True:\n",
    "        if is_ulam_num(u, num):\n",
    "            # found such number\n",
    "            u.append(num)\n",
    "            yield num\n",
    "        num += 1"
   ]
  },
  {
   "cell_type": "code",
   "execution_count": 9,
   "id": "336cfa4a",
   "metadata": {},
   "outputs": [
    {
     "name": "stdout",
     "output_type": "stream",
     "text": [
      "[1, 2, 3, 4, 6, 8, 11, 13, 16, 18]\n",
      "[26, 28, 36, 38, 47, 48, 53, 57, 62, 69]\n"
     ]
    }
   ],
   "source": [
    "ulam = ulam_num()\n",
    "print([ next(ulam) for el in range(10)])\n",
    "print([ next(ulam) for el in range(10)])"
   ]
  },
  {
   "cell_type": "markdown",
   "id": "1100f2df",
   "metadata": {},
   "source": [
    "##### Using itertools for Ulam numbers"
   ]
  },
  {
   "cell_type": "code",
   "execution_count": 11,
   "id": "0995eff5",
   "metadata": {},
   "outputs": [],
   "source": [
    "import itertools\n",
    "\n",
    "def is_ulam_num(ul_list, num):\n",
    "    '''\n",
    "        Function checks whether num appears as a sum of 2 distinc number exactly 1 time using\n",
    "        combinations function from itertools\n",
    "    '''\n",
    "    \n",
    "    # find all combinations of values\n",
    "    comb = itertools.combinations(ul_list, 2)\n",
    "    \n",
    "    is_ulam = False\n",
    "    \n",
    "    for (el1, el2) in comb:\n",
    "        if el1 + el2 == num:\n",
    "            if is_ulam:\n",
    "                # it is already the second set of numbers that have the same sum. Return False\n",
    "                return False\n",
    "            is_ulam = True\n",
    "        \n",
    "    return is_ulam\n",
    "\n",
    "def ulam_num():\n",
    "    '''\n",
    "        Generator that generates Ulam numbers\n",
    "    '''\n",
    "    # init Ulam numbers list\n",
    "    u = [1]\n",
    "    # return first num\n",
    "    yield u[0]\n",
    "    u.append(2)\n",
    "    # return second num\n",
    "    yield u[1]\n",
    "    # current number to check\n",
    "    num = 3\n",
    "    \n",
    "    # loop over all numbers\n",
    "    while True:\n",
    "        if is_ulam_num(u, num):\n",
    "            # found such number\n",
    "            u.append(num)\n",
    "            yield num\n",
    "        num += 1"
   ]
  },
  {
   "cell_type": "code",
   "execution_count": 12,
   "id": "7e11729f",
   "metadata": {},
   "outputs": [
    {
     "name": "stdout",
     "output_type": "stream",
     "text": [
      "[1, 2, 3, 4, 6, 8, 11, 13, 16, 18]\n",
      "[26, 28, 36, 38, 47, 48, 53, 57, 62, 69]\n"
     ]
    }
   ],
   "source": [
    "ulam = ulam_num()\n",
    "print([ next(ulam) for el in range(10)])\n",
    "print([ next(ulam) for el in range(10)])"
   ]
  }
 ],
 "metadata": {
  "kernelspec": {
   "display_name": "Python 3",
   "language": "python",
   "name": "python3"
  },
  "language_info": {
   "codemirror_mode": {
    "name": "ipython",
    "version": 3
   },
   "file_extension": ".py",
   "mimetype": "text/x-python",
   "name": "python",
   "nbconvert_exporter": "python",
   "pygments_lexer": "ipython3",
   "version": "3.7.10"
  }
 },
 "nbformat": 4,
 "nbformat_minor": 5
}
