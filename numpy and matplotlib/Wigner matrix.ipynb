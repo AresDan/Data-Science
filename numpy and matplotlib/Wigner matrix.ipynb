{
 "cells": [
  {
   "cell_type": "markdown",
   "id": "2aa0dcf3",
   "metadata": {},
   "source": [
    "## Help functions"
   ]
  },
  {
   "cell_type": "code",
   "execution_count": 1,
   "id": "9ee5430a",
   "metadata": {},
   "outputs": [],
   "source": [
    "def is_positive_int(value): \n",
    "    return (isinstance(value, int) and value > 0)"
   ]
  },
  {
   "cell_type": "markdown",
   "id": "c90c9fc1",
   "metadata": {},
   "source": [
    "##### Wigner value"
   ]
  },
  {
   "cell_type": "code",
   "execution_count": 2,
   "id": "cd2dfaa4",
   "metadata": {},
   "outputs": [],
   "source": [
    "import numpy as np\n",
    "import math"
   ]
  },
  {
   "cell_type": "code",
   "execution_count": 3,
   "id": "9f7b1cdc",
   "metadata": {},
   "outputs": [],
   "source": [
    "def wigner_density(x):\n",
    "    '''\n",
    "        Function takes an x and return Wigner semicircular distribution\n",
    "        \n",
    "        input:\n",
    "            x: x for the formula\n",
    "        output:\n",
    "            f(x) for Wigner formula\n",
    "    '''\n",
    "    \n",
    "    if x < -2 or x > 2:\n",
    "        return 0\n",
    "    \n",
    "    f_x = np.sqrt(4 - x**2)/(2*math.pi)\n",
    "    return f_x"
   ]
  },
  {
   "cell_type": "code",
   "execution_count": 4,
   "id": "16b7397e",
   "metadata": {},
   "outputs": [
    {
     "name": "stdout",
     "output_type": "stream",
     "text": [
      "0.30820222203074993\n",
      "0.30820222203074993\n"
     ]
    }
   ],
   "source": [
    "x_np = np.float_(0.5)\n",
    "x_p = 0.5\n",
    "\n",
    "print(wigner_density(x_np))\n",
    "print(wigner_density(x_p))"
   ]
  },
  {
   "cell_type": "markdown",
   "id": "36be69d2",
   "metadata": {},
   "source": [
    "##### Wigner matrix"
   ]
  },
  {
   "cell_type": "code",
   "execution_count": 5,
   "id": "7b6acdf6",
   "metadata": {},
   "outputs": [],
   "source": [
    "import random\n",
    "import scipy\n",
    "import scipy.spatial\n",
    "\n",
    "def generate_wigner(n):\n",
    "    '''\n",
    "        Function generates nxn Wigner matrix (Wigner matrix does not contain Wigner values)\n",
    "        \n",
    "        input:\n",
    "            n: n-dimention\n",
    "        output:\n",
    "            nxn Wigner matrix\n",
    "    '''\n",
    "    \n",
    "    if not is_positive_int(n):\n",
    "        raise ValueError('Input should be a positive integer')\n",
    "    \n",
    "    # count how many upper triangle values should be (number of x-s)\n",
    "    # x x x\n",
    "    # 0 x x\n",
    "    # 0 0 x\n",
    "    elem = sum([ i for i in range(0, n+1) ])\n",
    "    # generate random values with mean 0 and standard deviation = sqrt(variance), where variance = 1/n\n",
    "    random_wigner_numbers = np.random.normal(0, np.sqrt(1/n), elem)\n",
    "    \n",
    "    # generate matrix\n",
    "    matrix = np.zeros((n, n))\n",
    "    # assign generated values to upper corner matrix\n",
    "    matrix[np.triu_indices(n, 0)] = random_wigner_numbers\n",
    "    \n",
    "    return np.triu(matrix) + np.tril(matrix.T, -1)"
   ]
  },
  {
   "cell_type": "code",
   "execution_count": 6,
   "id": "31e89b90",
   "metadata": {},
   "outputs": [
    {
     "data": {
      "text/plain": [
       "array([[ 0.10704986,  0.16289197, -0.25753787, -0.20112242, -0.12170109],\n",
       "       [ 0.16289197, -0.23907386, -0.18679928,  0.60891911,  0.00079209],\n",
       "       [-0.25753787, -0.18679928,  0.10143624,  0.02750436,  0.14736524],\n",
       "       [-0.20112242,  0.60891911,  0.02750436, -0.10864275,  0.05211982],\n",
       "       [-0.12170109,  0.00079209,  0.14736524,  0.05211982, -0.36227384]])"
      ]
     },
     "execution_count": 6,
     "metadata": {},
     "output_type": "execute_result"
    }
   ],
   "source": [
    "generate_wigner(5)"
   ]
  },
  {
   "cell_type": "markdown",
   "id": "ce711a5d",
   "metadata": {},
   "source": [
    "##### Eigenvalues of Wigner matrix"
   ]
  },
  {
   "cell_type": "code",
   "execution_count": 7,
   "id": "aa890e31",
   "metadata": {},
   "outputs": [],
   "source": [
    "def get_spectrum(matrix):\n",
    "    '''\n",
    "        Function takes a matrix and generates eigenvalues in non-decreasing order\n",
    "        \n",
    "        input:\n",
    "            matrix: matrix of Wigner values\n",
    "        output:\n",
    "            eigenvalues\n",
    "    '''\n",
    "    return np.linalg.eigh(matrix)[0]"
   ]
  },
  {
   "cell_type": "code",
   "execution_count": 8,
   "id": "c4ac2aa1",
   "metadata": {},
   "outputs": [
    {
     "data": {
      "text/plain": [
       "array([-1.66705677, -0.79023042, -0.24718539,  0.55628331,  0.90396266])"
      ]
     },
     "execution_count": 8,
     "metadata": {},
     "output_type": "execute_result"
    }
   ],
   "source": [
    "get_spectrum(generate_wigner(5))"
   ]
  },
  {
   "cell_type": "markdown",
   "id": "7ce80f19",
   "metadata": {},
   "source": [
    "### Generate matrixes matrixes"
   ]
  },
  {
   "cell_type": "code",
   "execution_count": 14,
   "id": "207c77f4",
   "metadata": {},
   "outputs": [],
   "source": [
    "import matplotlib.pyplot as plt\n",
    "\n",
    "# generated matrixes for n = 100, 200, 500 and 1000\n",
    "n_100 = get_spectrum(generate_wigner(100))\n",
    "n_200 = get_spectrum(generate_wigner(200))\n",
    "n_500 = get_spectrum(generate_wigner(500))\n",
    "n_1000 = get_spectrum(generate_wigner(1000))"
   ]
  },
  {
   "cell_type": "markdown",
   "id": "d7e1ce48",
   "metadata": {},
   "source": [
    "##### Plot"
   ]
  },
  {
   "cell_type": "code",
   "execution_count": 17,
   "id": "1bf90c24",
   "metadata": {},
   "outputs": [],
   "source": [
    "# create a help function which will generate density of the semicircular law\n",
    "sem_law = np.vectorize(wigner_density)\n",
    "bins = 50"
   ]
  },
  {
   "cell_type": "code",
   "execution_count": 18,
   "id": "b9fa70f6",
   "metadata": {},
   "outputs": [
    {
     "data": {
      "image/png": "[encoded data removed]",
      "text/plain": [
       "<Figure size 720x720 with 4 Axes>"
      ]
     },
     "metadata": {
      "needs_background": "light"
     },
     "output_type": "display_data"
    }
   ],
   "source": [
    "# change height of subplots\n",
    "plt.subplots(2,2,figsize=(10,10))\n",
    "\n",
    "plt.subplot(221)\n",
    "plt.hist(n_100, bins, density=True)\n",
    "plt.plot(np.arange(-2, 2, 4/100), sem_law(n_100.flatten()), 'r-')\n",
    "plt.title('n = 100')\n",
    "\n",
    "plt.subplot(222)\n",
    "plt.hist(n_200, bins, density=True)\n",
    "plt.plot(np.arange(-2, 2, 4/200), sem_law(n_200.flatten()), 'r-')\n",
    "plt.title('n = 200')\n",
    "\n",
    "plt.subplot(223)\n",
    "plt.hist(n_500, bins, density=True)\n",
    "plt.plot(np.arange(-2, 2, 4/500), sem_law(n_500.flatten()), 'r-')\n",
    "plt.title('n = 500')\n",
    "\n",
    "plt.subplot(224)\n",
    "plt.hist(n_1000, bins, density=True)\n",
    "plt.plot(np.arange(-2, 2, 4/1000), sem_law(n_1000.flatten()), 'r-')\n",
    "plt.title('n = 1000')\n",
    "\n",
    "_ = plt.tight_layout()"
   ]
  }
 ],
 "metadata": {
  "kernelspec": {
   "display_name": "Python 3",
   "language": "python",
   "name": "python3"
  },
  "language_info": {
   "codemirror_mode": {
    "name": "ipython",
    "version": 3
   },
   "file_extension": ".py",
   "mimetype": "text/x-python",
   "name": "python",
   "nbconvert_exporter": "python",
   "pygments_lexer": "ipython3",
   "version": "3.7.10"
  }
 },
 "nbformat": 4,
 "nbformat_minor": 5
}
