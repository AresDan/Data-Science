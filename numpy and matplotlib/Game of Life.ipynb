{
 "cells": [
  {
   "cell_type": "markdown",
   "id": "ed372849",
   "metadata": {},
   "source": [
    "## Help Functions"
   ]
  },
  {
   "cell_type": "code",
   "execution_count": 1,
   "id": "c965a522",
   "metadata": {},
   "outputs": [],
   "source": [
    "import numpy as np\n",
    "import matplotlib.pyplot as plt\n",
    "\n",
    "def is_array(matrix): \n",
    "    return isinstance(matrix, np.ndarray)\n",
    "\n",
    "def is_bool(value): \n",
    "    return isinstance(value, np.bool_)\n",
    "\n",
    "def is_non_negative_int(value): \n",
    "    return (isinstance(value, int) and value >= 0)\n",
    "\n",
    "def is_inf(value): \n",
    "    return value == float(\"inf\")"
   ]
  },
  {
   "cell_type": "markdown",
   "id": "1e7671b5",
   "metadata": {},
   "source": [
    "## Game of Life"
   ]
  },
  {
   "cell_type": "markdown",
   "id": "46332160",
   "metadata": {},
   "source": [
    "##### Check whether the board is valid"
   ]
  },
  {
   "cell_type": "code",
   "execution_count": 2,
   "id": "1c936367",
   "metadata": {},
   "outputs": [],
   "source": [
    "def is_valid_board(board):\n",
    "    '''\n",
    "        Function checks whether a matrix is a valid \"Game of Life\" board (all values are booleans, type, etc.)\n",
    "        \n",
    "        input:\n",
    "            board: matrix\n",
    "        output:\n",
    "            True/False: board is valid or not\n",
    "    '''\n",
    "    \n",
    "    if not is_array(board):\n",
    "        return False\n",
    "        \n",
    "    for row in board:\n",
    "        # row should be a type of ndarray\n",
    "        if not is_array(row):\n",
    "            return False\n",
    "        \n",
    "        for cell in row:\n",
    "            # check if cell is bool\n",
    "            if not is_bool(cell):\n",
    "                return False\n",
    "        \n",
    "    return True"
   ]
  },
  {
   "cell_type": "code",
   "execution_count": 3,
   "id": "d2871fea",
   "metadata": {},
   "outputs": [
    {
     "data": {
      "text/plain": [
       "True"
      ]
     },
     "execution_count": 3,
     "metadata": {},
     "output_type": "execute_result"
    }
   ],
   "source": [
    "example = np.array([[True,True], [False, False], [False, False]])\n",
    "is_valid_board(example)"
   ]
  },
  {
   "cell_type": "markdown",
   "id": "1e4d3336",
   "metadata": {},
   "source": [
    "##### Generate the next step"
   ]
  },
  {
   "cell_type": "code",
   "execution_count": 4,
   "id": "93c102fb",
   "metadata": {},
   "outputs": [],
   "source": [
    "# helpful functions\n",
    "def get_left(idx_j, j_shape):\n",
    "    if idx_j == 0:\n",
    "        idx_j = j_shape - 1\n",
    "    else:\n",
    "        idx_j -= 1\n",
    "    \n",
    "    return idx_j\n",
    "\n",
    "def get_right(idx_j, j_shape):\n",
    "    if idx_j == j_shape - 1:\n",
    "        idx_j = 0\n",
    "    else:\n",
    "        idx_j += 1\n",
    "    \n",
    "    return idx_j\n",
    "\n",
    "def get_top(idx_i, i_shape):\n",
    "    if idx_i == 0:\n",
    "        idx_i = i_shape - 1\n",
    "    else:\n",
    "        idx_i -= 1\n",
    "    \n",
    "    return idx_i\n",
    "\n",
    "def get_bottom(idx_i, i_shape):\n",
    "    if idx_i == i_shape - 1:\n",
    "        idx_i = 0\n",
    "    else:\n",
    "        idx_i += 1\n",
    "    \n",
    "    return idx_i"
   ]
  },
  {
   "cell_type": "code",
   "execution_count": 5,
   "id": "bf09ec92",
   "metadata": {},
   "outputs": [],
   "source": [
    "def gol_step(board):\n",
    "    '''\n",
    "        Function generates the next step of a board using \"Game of Life\" rules\n",
    "        \n",
    "        input:\n",
    "            board: matrix\n",
    "        output:\n",
    "            ndarray: board of a next step\n",
    "    '''\n",
    "    \n",
    "    if not is_valid_board(board):\n",
    "        raise ValueError('Provided board is not a valid \"Game of Life\" board')\n",
    "        \n",
    "    # copy board\n",
    "    next_step_board = np.array(board)\n",
    "    # the board is ixj shape\n",
    "    i_shape = board.shape[0]\n",
    "    j_shape = board.shape[1]\n",
    "        \n",
    "    for idx_i in range(0, i_shape):\n",
    "        for idx_j in range(0, j_shape):\n",
    "            # gen number of alive neighbours\n",
    "            alive_neighbours = 0\n",
    "            \n",
    "            # left\n",
    "            alive_neighbours += board[idx_i][get_left(idx_j, j_shape)]\n",
    "            # right\n",
    "            alive_neighbours += board[idx_i][get_right(idx_j, j_shape)]\n",
    "            # top\n",
    "            alive_neighbours += board[get_top(idx_i, i_shape)][idx_j]\n",
    "            # bottom\n",
    "            alive_neighbours += board[get_bottom(idx_i, i_shape)][idx_j]\n",
    "            \n",
    "            # top-left\n",
    "            alive_neighbours += board[get_top(idx_i, i_shape)][get_left(idx_j, j_shape)]\n",
    "            # top-right\n",
    "            alive_neighbours += board[get_top(idx_i, i_shape)][get_right(idx_j, j_shape)]\n",
    "            # bottom-left\n",
    "            alive_neighbours += board[get_bottom(idx_i, i_shape)][get_left(idx_j, j_shape)]\n",
    "            # bottom-right\n",
    "            alive_neighbours += board[get_bottom(idx_i, i_shape)][get_right(idx_j, j_shape)]\n",
    "                \n",
    "                \n",
    "            # RULES APPLIED\n",
    "            # alive and < 2 => dead\n",
    "            if (board[idx_i][idx_j] == True) and (alive_neighbours < 2):\n",
    "                next_step_board[idx_i][idx_j] = False\n",
    "                \n",
    "            # alive and > 3 => dead\n",
    "            if (board[idx_i][idx_j] == True) and (alive_neighbours > 3):\n",
    "                next_step_board[idx_i][idx_j] = False\n",
    "            \n",
    "            # dead and 3 => alive\n",
    "            if (board[idx_i][idx_j] == False) and (alive_neighbours == 3):\n",
    "                next_step_board[idx_i][idx_j] = True\n",
    "                \n",
    "    # return next step board\n",
    "    return next_step_board"
   ]
  },
  {
   "cell_type": "code",
   "execution_count": 6,
   "id": "26cad5c1",
   "metadata": {},
   "outputs": [
    {
     "name": "stdout",
     "output_type": "stream",
     "text": [
      "[[0 0 0 0 0]\n",
      " [0 0 1 0 0]\n",
      " [0 1 1 1 0]\n",
      " [0 1 0 1 0]\n",
      " [0 0 0 0 0]] \n",
      "\n",
      "[[0 0 0 0 0]\n",
      " [0 1 1 1 0]\n",
      " [0 1 0 1 0]\n",
      " [0 1 0 1 0]\n",
      " [0 0 0 0 0]]\n"
     ]
    }
   ],
   "source": [
    "example = np.array([[False, False, False, False, False], \n",
    "                    [False, False, True,  False, False], \n",
    "                    [False, True,  True,  True,  False], \n",
    "                    [False, True,  False, True,  False],\n",
    "                    [False, False, False, False, False]])\n",
    "\n",
    "print(np.array(example, dtype=int), \"\\n\")\n",
    "print(np.array(gol_step(example), dtype=int))"
   ]
  },
  {
   "cell_type": "markdown",
   "id": "bebb7cdb",
   "metadata": {},
   "source": [
    "##### For drawing"
   ]
  },
  {
   "cell_type": "code",
   "execution_count": 7,
   "id": "c97398b0",
   "metadata": {},
   "outputs": [],
   "source": [
    "from matplotlib.colors import ListedColormap\n",
    "from matplotlib.pyplot import figure\n",
    "\n",
    "def draw_gol_board(board):\n",
    "    '''\n",
    "        Function creates and shows a plot of a board of \"Game of Life\"\n",
    "        \n",
    "        input:\n",
    "            board: matrix\n",
    "        output:\n",
    "            None\n",
    "    '''\n",
    "\n",
    "    if not is_valid_board(board):\n",
    "        raise ValueError('Provided board is not a valid \"Game of Life\" board')\n",
    "            \n",
    "    # convert boolean-type matrix to int-type matrix\n",
    "    image = np.array(board, dtype=int)\n",
    "                \n",
    "    # change the colormap of an image\n",
    "    cmap = ListedColormap(['w', 'k'])\n",
    "    plt.matshow(image, cmap=cmap)\n",
    "    \n",
    "    # remove labels\n",
    "    plt.tick_params(axis='x', bottom=False, top=False, labeltop=False, labelbottom=False)\n",
    "    plt.tick_params(axis='y', left=False, right=False, labelleft=False, labelright=False)\n",
    "    \n",
    "    plt.show()"
   ]
  },
  {
   "cell_type": "code",
   "execution_count": 8,
   "id": "bf978012",
   "metadata": {},
   "outputs": [
    {
     "data": {
      "image/png": "[encoded data removed]",
      "text/plain": [
       "<Figure size 288x288 with 1 Axes>"
      ]
     },
     "metadata": {},
     "output_type": "display_data"
    }
   ],
   "source": [
    "draw_gol_board(example)"
   ]
  },
  {
   "cell_type": "markdown",
   "id": "b95d7d4c",
   "metadata": {},
   "source": [
    "##### Create an example matrix"
   ]
  },
  {
   "cell_type": "code",
   "execution_count": 9,
   "id": "a8680274",
   "metadata": {},
   "outputs": [],
   "source": [
    "example = np.zeros((20, 20), dtype=bool)\n",
    "example[1][2] = True\n",
    "example[2][3] = True\n",
    "example[3][1] = True\n",
    "example[3][2] = True\n",
    "example[3][3] = True\n",
    "example[3][2] = True\n",
    "\n",
    "example[13][3] = True\n",
    "example[13][2] = True\n",
    "example[13][1] = True\n",
    "example[14][1] = True\n",
    "example[12][1] = True\n",
    "\n",
    "\n",
    "example[1][17] = True\n",
    "example[2][16] = True\n",
    "example[3][18] = True\n",
    "example[3][17] = True\n",
    "example[3][16] = True"
   ]
  },
  {
   "cell_type": "markdown",
   "id": "e5048bfe",
   "metadata": {},
   "source": [
    "##### Plot first 5 steps"
   ]
  },
  {
   "cell_type": "code",
   "execution_count": 10,
   "id": "14b7c131",
   "metadata": {},
   "outputs": [
    {
     "data": {
      "image/png": "[encoded data removed]",
      "text/plain": [
       "<Figure size 288x288 with 1 Axes>"
      ]
     },
     "metadata": {},
     "output_type": "display_data"
    },
    {
     "data": {
      "image/png": "[encoded data removed]",
      "text/plain": [
       "<Figure size 288x288 with 1 Axes>"
      ]
     },
     "metadata": {},
     "output_type": "display_data"
    },
    {
     "data": {
      "image/png": "[encoded data removed]",
      "text/plain": [
       "<Figure size 288x288 with 1 Axes>"
      ]
     },
     "metadata": {},
     "output_type": "display_data"
    },
    {
     "data": {
      "image/png": "[encoded data removed]",
      "text/plain": [
       "<Figure size 288x288 with 1 Axes>"
      ]
     },
     "metadata": {},
     "output_type": "display_data"
    },
    {
     "data": {
      "image/png": "[encoded data removed]",
      "text/plain": [
       "<Figure size 288x288 with 1 Axes>"
      ]
     },
     "metadata": {},
     "output_type": "display_data"
    }
   ],
   "source": [
    "draw_gol_board(example)\n",
    "\n",
    "step = gol_step(example)\n",
    "draw_gol_board(step)\n",
    "\n",
    "step = gol_step(step)\n",
    "draw_gol_board(step)\n",
    "\n",
    "step = gol_step(step)\n",
    "draw_gol_board(step)\n",
    "\n",
    "step = gol_step(step)\n",
    "draw_gol_board(step)"
   ]
  },
  {
   "cell_type": "markdown",
   "id": "baf90c2c",
   "metadata": {},
   "source": [
    "## Animation"
   ]
  },
  {
   "cell_type": "code",
   "execution_count": 11,
   "id": "b8f6dda9",
   "metadata": {},
   "outputs": [],
   "source": [
    "import time\n",
    "from IPython.display import clear_output\n",
    "\n",
    "def animation(board, steps):\n",
    "    '''\n",
    "        Function generates animation of \"Game of Life\" given initial board and number of steps.\n",
    "        Function also handles 'infinity numbers': float(\"inf\")\n",
    "        \n",
    "        input:\n",
    "            board: matrix\n",
    "            steps: how much steps should the function show\n",
    "        output:\n",
    "            None\n",
    "    '''\n",
    "    \n",
    "    if not is_valid_board(board):\n",
    "        raise ValueError('Provided board is not a valid \"Game of Life\" board')\n",
    "    \n",
    "    if is_inf(steps):\n",
    "        # if infinity - then handle later\n",
    "        pass\n",
    "    else:\n",
    "        if not is_non_negative_int(steps):\n",
    "            raise ValueError('Provided board is not a valid \"Game of Life\" board')\n",
    "        \n",
    "    # draw initial board\n",
    "    new_board = board\n",
    "    draw_gol_board(new_board)\n",
    "    # counter\n",
    "    count = 0\n",
    "\n",
    "    while count < steps:\n",
    "        # wait and clear output\n",
    "        clear_output(wait=True)\n",
    "        \n",
    "        new_board = gol_step(new_board)\n",
    "        draw_gol_board(new_board)\n",
    "        count += 1"
   ]
  },
  {
   "cell_type": "code",
   "execution_count": 12,
   "id": "6eb4179a",
   "metadata": {},
   "outputs": [
    {
     "data": {
      "image/png": "[encoded data removed]",
      "text/plain": [
       "<Figure size 288x288 with 1 Axes>"
      ]
     },
     "metadata": {},
     "output_type": "display_data"
    }
   ],
   "source": [
    "animation(example, 38)"
   ]
  },
  {
   "cell_type": "code",
   "execution_count": null,
   "id": "9bc54bd2",
   "metadata": {},
   "outputs": [],
   "source": [
    "# for inf. number of time\n",
    "animation(example, float('inf'))"
   ]
  }
 ],
 "metadata": {
  "kernelspec": {
   "display_name": "Python 3",
   "language": "python",
   "name": "python3"
  },
  "language_info": {
   "codemirror_mode": {
    "name": "ipython",
    "version": 3
   },
   "file_extension": ".py",
   "mimetype": "text/x-python",
   "name": "python",
   "nbconvert_exporter": "python",
   "pygments_lexer": "ipython3",
   "version": "3.7.10"
  }
 },
 "nbformat": 4,
 "nbformat_minor": 5
}
