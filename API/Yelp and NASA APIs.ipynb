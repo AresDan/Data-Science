{
 "cells": [
  {
   "cell_type": "markdown",
   "id": "a7160a89",
   "metadata": {},
   "source": [
    "## Yelp API"
   ]
  },
  {
   "cell_type": "markdown",
   "id": "1302d4f9",
   "metadata": {},
   "source": [
    "#### Create an app for free and get credentials on this website: https://www.yelp.com/developers/documentation/v3/authentication"
   ]
  },
  {
   "cell_type": "markdown",
   "id": "d0f1a342",
   "metadata": {},
   "source": [
    "#### Libraries"
   ]
  },
  {
   "cell_type": "code",
   "execution_count": 1,
   "id": "b2ca7a54",
   "metadata": {},
   "outputs": [],
   "source": [
    "import requests\n",
    "import json\n",
    "from pprint import pprint"
   ]
  },
  {
   "cell_type": "markdown",
   "id": "81fa05a6",
   "metadata": {},
   "source": [
    "#### Support functions"
   ]
  },
  {
   "cell_type": "code",
   "execution_count": 2,
   "id": "f812550b",
   "metadata": {},
   "outputs": [],
   "source": [
    "def is_string(value):\n",
    "    return isinstance(value, str)   \n",
    "def is_int(value):\n",
    "    return isinstance(value, int) \n",
    "def is_positive_int(value):\n",
    "    return is_int(value) and value >= 0\n",
    "\n",
    "def convert_num_to_date(yyyy, mm, dd):\n",
    "    yyyy_str = str(yyyy).rjust(4, '0')\n",
    "    mm_str = str(mm).rjust(2, '0')\n",
    "    dd_str = str(dd).rjust(2, '0')\n",
    "    \n",
    "    return yyyy_str + '-' + mm_str + '-' + dd_str"
   ]
  },
  {
   "cell_type": "markdown",
   "id": "e37ee955",
   "metadata": {},
   "source": [
    "#### Get establishments using Yelp API"
   ]
  },
  {
   "cell_type": "code",
   "execution_count": 3,
   "id": "198ede30",
   "metadata": {},
   "outputs": [
    {
     "data": {
      "text/plain": [
       "['jordans-big-ten-pub-madison',\n",
       " 'sweet-home-wisconsin-madison',\n",
       " 'the-brat-stand-madison',\n",
       " 'the-library-cafe-and-bar-madison',\n",
       " 'luckys-1313-brew-pub-madison-2',\n",
       " 'the-sett-madison',\n",
       " 'buffalo-wild-wings-madison-3',\n",
       " 'greenbush-bar-madison']"
      ]
     },
     "execution_count": 3,
     "metadata": {},
     "output_type": "execute_result"
    }
   ],
   "source": [
    "def near_msc(s, d=1000, key='ybspQHnx1bPGeG73oLCcTRE_zZY3dWVwbvUq7xshW1XqjrhcDjPe-6j6S1TvXAgIdFXSdJcb8kV3aIDG9Sf5MYlqx2X2vFzJIKK4KH1CQh9DWOCVTMwEZV-vBk2_YHYx'):\n",
    "    '''\n",
    "        Function takes the search string \"s\", distance \"d\" in meters and API key, and returns the Yelp aliases \n",
    "        of all of the establishments matching the search string that are d-meters away \n",
    "        from (1300 University Ave, Madison WI), using given API key\n",
    "    '''\n",
    "    \n",
    "    if not is_string(s):\n",
    "        raise TypeError('Search should be a type of string')\n",
    "        \n",
    "    if not is_positive_int(d):\n",
    "        raise TypeError('Distance should be a positive integer')\n",
    "    \n",
    "    if not is_string(key):\n",
    "        raise TypeError('Key should be a type of string')\n",
    "        \n",
    "        \n",
    "    url = 'https://api.yelp.com/v3/businesses/search'\n",
    "    headers = {'Authorization' : 'Bearer %s' % key}\n",
    "    url_params = { 'term' : s,\n",
    "                   'radius': d,\n",
    "                   'location': '1300 University Ave, Madison WI'}\n",
    "    \n",
    "    r = requests.get(url, headers=headers, params=url_params)\n",
    "    \n",
    "    return [ res['alias'] for res in r.json()['businesses'] ]\n",
    "    \n",
    "near_msc('pub')"
   ]
  },
  {
   "cell_type": "markdown",
   "id": "8033a1b2",
   "metadata": {},
   "source": [
    "#### Get best establishment using Yelp API"
   ]
  },
  {
   "cell_type": "code",
   "execution_count": 4,
   "id": "dcc893be",
   "metadata": {
    "scrolled": true
   },
   "outputs": [
    {
     "data": {
      "text/plain": [
       "{'indie-coffee-madison': 4.5}"
      ]
     },
     "execution_count": 4,
     "metadata": {},
     "output_type": "execute_result"
    }
   ],
   "source": [
    "def near_msc(s, d=1000, key='ybspQHnx1bPGeG73oLCcTRE_zZY3dWVwbvUq7xshW1XqjrhcDjPe-6j6S1TvXAgIdFXSdJcb8kV3aIDG9Sf5MYlqx2X2vFzJIKK4KH1CQh9DWOCVTMwEZV-vBk2_YHYx'):\n",
    "    '''\n",
    "        Function takes the search string \"s\", distance \"d\" in meters and API key, and returns Yelp establishment \n",
    "        with the best raiting, matching the search string that are d-meters away \n",
    "        from (1300 University Ave, Madison WI), using given API key\n",
    "    '''\n",
    "    \n",
    "    if not is_string(s):\n",
    "        raise TypeError('Search should be a type of string')\n",
    "        \n",
    "    if not is_positive_int(d):\n",
    "        raise TypeError('Distance should be a positive integer')\n",
    "    \n",
    "    if not is_string(key):\n",
    "        raise TypeError('Key should be a type of string')\n",
    "        \n",
    "        \n",
    "    url = 'https://api.yelp.com/v3/businesses/search'\n",
    "    headers = {'Authorization' : 'Bearer %s' % key}\n",
    "    url_params = { 'term' : s,\n",
    "                   'radius': d,\n",
    "                   'location': '1300 University Ave, Madison WI'}\n",
    "    \n",
    "    r = requests.get(url, headers=headers, params=url_params)\n",
    "    \n",
    "    # find the best establishment\n",
    "    best_rest_name = ''\n",
    "    best_rest_raiting = -1\n",
    "    \n",
    "    for res in r.json()['businesses']:\n",
    "        if best_rest_raiting < res['rating']:\n",
    "            best_rest_name = res['alias']\n",
    "            best_rest_raiting = res['rating']\n",
    "    \n",
    "    return {best_rest_name: best_rest_raiting}\n",
    "    \n",
    "near_msc('coffee')"
   ]
  },
  {
   "cell_type": "markdown",
   "id": "8e878152",
   "metadata": {},
   "source": [
    "## NASA API"
   ]
  },
  {
   "cell_type": "markdown",
   "id": "5f744cbd",
   "metadata": {},
   "source": [
    "#### Create an app for free and get credentials on this website: https://api.nasa.gov/"
   ]
  },
  {
   "cell_type": "markdown",
   "id": "0dfc2d48",
   "metadata": {},
   "source": [
    "#### Get Near Earth Objects between dates"
   ]
  },
  {
   "cell_type": "code",
   "execution_count": 5,
   "id": "abd65a71",
   "metadata": {},
   "outputs": [],
   "source": [
    "def get_neos_response(start_date, end_date, key='5uYddc7j4wUGPfBqw6K516jzzVvr6zcbV0zt1jet'):\n",
    "    '''\n",
    "        Function takes start_date and end_date (in format of YYYY-MM-DD) and NASA API key and returns\n",
    "        Near Earth Objects based on the date of their closest approach to Earth\n",
    "    '''\n",
    "    \n",
    "    if not is_string(start_date):\n",
    "        raise TypeError('Start date should be a type of string')\n",
    "    \n",
    "    if not is_string(end_date):\n",
    "        raise TypeError('End date should be a type of string')\n",
    "    \n",
    "    if not is_string(key):\n",
    "        raise TypeError('Key should be a type of string')\n",
    "        \n",
    "        \n",
    "    url = 'https://api.nasa.gov/neo/rest/v1/feed'\n",
    "    url_params = { 'start_date' : start_date,\n",
    "                   'end_date': end_date }\n",
    "    \n",
    "    r = requests.get(url, params=url_params, auth=(key, ''))\n",
    "\n",
    "    return r.json()\n",
    "    \n",
    "neo_json = get_neos_response('2015-01-01', '2015-01-01')"
   ]
  },
  {
   "cell_type": "code",
   "execution_count": 6,
   "id": "5b218266",
   "metadata": {},
   "outputs": [
    {
     "name": "stdout",
     "output_type": "stream",
     "text": [
      "Number of asteroids:  8 \n",
      "\n",
      "Attributes of the structure: \n",
      " ['links', 'id', 'neo_reference_id', 'name', 'nasa_jpl_url', 'absolute_magnitude_h', 'estimated_diameter', 'is_potentially_hazardous_asteroid', 'close_approach_data', 'is_sentry_object']\n"
     ]
    }
   ],
   "source": [
    "print('Number of asteroids: ', neo_json['element_count'], '\\n')\n",
    "\n",
    "neo_attrs = [ item for item in neo_json['near_earth_objects']['2015-01-01'][0] ]\n",
    "print('Attributes of the structure: \\n', neo_attrs)"
   ]
  },
  {
   "cell_type": "markdown",
   "id": "dc2a8abe",
   "metadata": {},
   "source": [
    "#### Check date validity"
   ]
  },
  {
   "cell_type": "code",
   "execution_count": 7,
   "id": "790dda23",
   "metadata": {},
   "outputs": [
    {
     "data": {
      "text/plain": [
       "False"
      ]
     },
     "execution_count": 7,
     "metadata": {},
     "output_type": "execute_result"
    }
   ],
   "source": [
    "def is_valid_date(yyyy, mm, dd):\n",
    "    '''\n",
    "        Function takes yyyy as a year, mm as a month and dd as a day and returns whether the actual date is valid\n",
    "    '''\n",
    "    \n",
    "    month_to_day = { 1: 31,\n",
    "                     2: 28,\n",
    "                     3: 31,\n",
    "                     4: 30,\n",
    "                     5: 31,\n",
    "                     6: 30,\n",
    "                     7: 31,\n",
    "                     8: 31,\n",
    "                     9: 30,\n",
    "                     10: 31,\n",
    "                     11: 30,\n",
    "                     12: 31 }\n",
    "    \n",
    "    # there is no data before the year 1900\n",
    "    if yyyy < 1:\n",
    "        return False\n",
    "    \n",
    "    # month should be between 1 and 12\n",
    "    if mm < 1 or mm > 12:\n",
    "        return False\n",
    "    \n",
    "    # day should be between 1 and max day of the month (considering the leap year in Feb)\n",
    "    if dd < 1 or dd > month_to_day[mm]:\n",
    "        # if it is a leap year -> return True\n",
    "        if (mm == 2 and dd == 29) and (yyyy % 4 == 0) and (yyyy % 100 != 0 or yyyy % 400 == 0):\n",
    "            return True\n",
    "        \n",
    "        return False\n",
    "\n",
    "    return True\n",
    "    \n",
    "is_valid_date(1900, 2, 29)"
   ]
  },
  {
   "cell_type": "markdown",
   "id": "7f329d5e",
   "metadata": {},
   "source": [
    "#### Get Near Earth Objects on a specific date"
   ]
  },
  {
   "cell_type": "code",
   "execution_count": 8,
   "id": "3d0aaadf",
   "metadata": {},
   "outputs": [],
   "source": [
    "def get_neos(yyyy, mm, dd):\n",
    "    '''\n",
    "        Function takes yyyy as a year, mm as a month and dd as a day and returns\n",
    "        Near Earth Objects in the specified date of their closest approach to Earth\n",
    "    '''\n",
    "    \n",
    "    if not is_positive_int(yyyy):\n",
    "        raise TypeError('Year should be a positive integer')\n",
    "    \n",
    "    if not is_positive_int(mm):\n",
    "        raise TypeError('Month should be a positive integer')\n",
    "    \n",
    "    if not is_positive_int(dd):\n",
    "        raise TypeError('Day should be a positive integer')\n",
    "        \n",
    "    if not (is_valid_date(yyyy, mm, dd)):\n",
    "        return None\n",
    "        \n",
    "    # convert to string and adjust the size\n",
    "    date = convert_num_to_date(yyyy, mm, dd)\n",
    "\n",
    "    return get_neos_response(date, date)\n",
    "    \n",
    "neo_json = get_neos(2029, 4, 13)"
   ]
  },
  {
   "cell_type": "code",
   "execution_count": 9,
   "id": "de8366d7",
   "metadata": {
    "scrolled": false
   },
   "outputs": [
    {
     "name": "stdout",
     "output_type": "stream",
     "text": [
      "Number of asteroids:  13\n"
     ]
    }
   ],
   "source": [
    "print('Number of asteroids: ', neo_json['element_count'])"
   ]
  },
  {
   "cell_type": "markdown",
   "id": "9365c280",
   "metadata": {},
   "source": [
    "#### Get number of and average maximum diameter in km of all Near Earth Objects on a specific date"
   ]
  },
  {
   "cell_type": "code",
   "execution_count": 10,
   "id": "40921c59",
   "metadata": {},
   "outputs": [
    {
     "name": "stdout",
     "output_type": "stream",
     "text": [
      "Number of asteroids:  12\n",
      "Average maximum diameter in km:  0.137111940625\n"
     ]
    }
   ],
   "source": [
    "def get_neos_avg_maxdiam_km_count(yyyy, mm, dd):\n",
    "    '''\n",
    "        Function takes yyyy as a year, mm as a month and dd as a day and returns the number of and\n",
    "        average maximum diameter in km of all Near Earth Objects on a specific date\n",
    "    '''\n",
    "    \n",
    "    # get the response\n",
    "    neo_json = get_neos(yyyy, mm, dd)\n",
    "    \n",
    "    # convert to string and adjust the size\n",
    "    date = convert_num_to_date(yyyy, mm, dd)\n",
    "    \n",
    "    # calculate the average maximum diameter in km\n",
    "    sum_of_maxdiam_km = sum([ el['estimated_diameter']['kilometers']['estimated_diameter_max'] \n",
    "                              for el in neo_json['near_earth_objects'][date]])\n",
    "\n",
    "    return neo_json['element_count'], sum_of_maxdiam_km / neo_json['element_count']\n",
    "    \n",
    "avg_maxdiam_km = get_neos_avg_maxdiam_km_count(2020, 6, 8)\n",
    "print('Number of asteroids: ', avg_maxdiam_km[0])\n",
    "print('Average maximum diameter in km: ', avg_maxdiam_km[1])"
   ]
  },
  {
   "cell_type": "markdown",
   "id": "40f58c63",
   "metadata": {},
   "source": [
    "#### Get info about the Apophis asteroid from the following article: https://www.npr.org/2021/03/27/981917655"
   ]
  },
  {
   "cell_type": "code",
   "execution_count": 11,
   "id": "acc5a79f",
   "metadata": {},
   "outputs": [],
   "source": [
    "neo_json = get_neos(2029, 4, 13)"
   ]
  },
  {
   "cell_type": "code",
   "execution_count": 12,
   "id": "1d574e4f",
   "metadata": {},
   "outputs": [
    {
     "name": "stdout",
     "output_type": "stream",
     "text": [
      "Asteroid full name:  99942 Apophis (2004 MN4)\n",
      "Max diameter in km:  0.6824015094\n",
      "Min diameter in km:  0.3051792326\n",
      "Closest distance in km:  38011.711742762\n"
     ]
    }
   ],
   "source": [
    "print('Asteroid full name: ', neo_json['near_earth_objects']['2029-04-13'][0]['name'])\n",
    "\n",
    "print('Max diameter in km: ', neo_json['near_earth_objects']['2029-04-13'][0]\n",
    "      ['estimated_diameter']['kilometers']['estimated_diameter_max'])\n",
    "print('Min diameter in km: ', neo_json['near_earth_objects']['2029-04-13'][0]\n",
    "      ['estimated_diameter']['kilometers']['estimated_diameter_min'])\n",
    "\n",
    "print('Closest distance in km: ', neo_json['near_earth_objects']['2029-04-13'][0]\n",
    "      ['close_approach_data'][0]['miss_distance']['kilometers'])"
   ]
  }
 ],
 "metadata": {
  "kernelspec": {
   "display_name": "Python 3",
   "language": "python",
   "name": "python3"
  },
  "language_info": {
   "codemirror_mode": {
    "name": "ipython",
    "version": 3
   },
   "file_extension": ".py",
   "mimetype": "text/x-python",
   "name": "python",
   "nbconvert_exporter": "python",
   "pygments_lexer": "ipython3",
   "version": "3.7.10"
  }
 },
 "nbformat": 4,
 "nbformat_minor": 5
}
