{
 "cells": [
  {
   "cell_type": "markdown",
   "id": "a7160a89",
   "metadata": {},
   "source": [
    "## SQL"
   ]
  },
  {
   "cell_type": "markdown",
   "id": "d0f1a342",
   "metadata": {},
   "source": [
    "#### Libraries"
   ]
  },
  {
   "cell_type": "code",
   "execution_count": 1,
   "id": "b2ca7a54",
   "metadata": {},
   "outputs": [],
   "source": [
    "import sqlite3"
   ]
  },
  {
   "cell_type": "markdown",
   "id": "3c86bcf3",
   "metadata": {},
   "source": [
    "#### SQL syntax"
   ]
  },
  {
   "cell_type": "code",
   "execution_count": 2,
   "id": "052accb1",
   "metadata": {},
   "outputs": [
    {
     "data": {
      "text/plain": [
       "'SELECT * FROM sqlite_master'"
      ]
     },
     "execution_count": 2,
     "metadata": {},
     "output_type": "execute_result"
    }
   ],
   "source": [
    "# retrieving info\n",
    "'''SELECT column_name_1, column_name_2 FROM table_name'''\n",
    "\n",
    "# filtering\n",
    "# =: eq\n",
    "# <>: not equal\n",
    "# >: gt\n",
    "# <: lt\n",
    "# >=: gteq\n",
    "# <=: lteq\n",
    "# BETWEEN ... AND ...: range\n",
    "'''SELECT column_name_1, column_name_2 FROM table_name WHERE price > 10'''\n",
    "\n",
    "# NULL is empty\n",
    "'''SELECT column_name_1, column_name_2 FROM table_name WHERE price = NULL'''\n",
    "\n",
    "# order by ASC or DESC\n",
    "'''SELECT column_name_1, column_name_2 FROM table_name ORDER BY price ASC'''\n",
    "\n",
    "# distinct values (also possible to have distinct 2 or more columns)\n",
    "'''SELECT DISTINCT column_name_1 FROM table_name'''\n",
    "\n",
    "# regex filtering\n",
    "'''SELECT column_name_1 FROM table_name WHERE major IN (\"Physics\", \"Mathematics\")'''\n",
    "'''SELECT column_name_1 FROM table_name WHERE major NOT IN (\"Computer Science\")'''\n",
    "# like ('_' as only 1 char or '%' as any number of char)\n",
    "# major starts with C\n",
    "'''SELECT column_name_1 FROM table_name WHERE major LIKE \"C%\"'''\n",
    "# major has C_mputer structure, and any char can be instead of _ (not only 1)\n",
    "'''SELECT column_name_1 FROM table_name WHERE major LIKE \"C_mputer\"''' \n",
    "\n",
    "# aggregate functions (SUM, MIN, MAX, AVG, COUNT)\n",
    "'''SELECT SUM(column_name_1) FROM table_name''' \n",
    "\n",
    "# group by some column\n",
    "'''SELECT SUM(column_name_1) FROM table_name GROUP BY customer_id''' \n",
    "# group by year and count how many entries for each year\n",
    "'''SELECT Founded, COUNT(*) FROM t_big10west GROUP BY Founded'''\n",
    "\n",
    "# filtering after group by\n",
    "# WHERE applied for original table; HAVING applied for a new table and creating another table\n",
    "'''SELECT SUM(column_name_1) FROM table_name GROUP BY customer_id HAVING price > 10''' \n",
    "\n",
    "# AS to save a temporary variable \n",
    "'''SELECT SUM(column_name_1) AS sum_of_smt FROM table_name GROUP BY customer_id HAVING price > 10'''\n",
    "\n",
    "# join several tables:\n",
    "# (INNER) JOIN: output table will have entries which are only in both tables at the same time\n",
    "# LEFT JOIN: output table will have entries which are in left tables\n",
    "# RIGHT JOIN: output table will have entries which are in right tables\n",
    "# FULL JOIN: output table will have entries which are in left and right tables\n",
    "'''SELECT table_1_column_3, table_2_column_7 FROM table_name_1 LEFT JOIN table_name_2 ON table_1_column_4 > 10'''\n",
    "\n",
    "# creating a table. datatype is optional\n",
    "'''CREATE TABLE table_name [col1 datatype, col2 datatype]'''\n",
    "# delete table\n",
    "'''DROP TABLE table_name'''\n",
    "\n",
    "# insert new row. [col1, col2] is optional, if giving all values\n",
    "'''INSERT INTO table_name [col1, col2] VALUES value1, value2'''\n",
    "# update row. WHERE is mandatory!!! (otherwise all rows will be modified)\n",
    "'''UPDATE table_name SET col1=value1, col3=value3 WHERE user_i = 10'''\n",
    "# delete row. WHERE is mandatory!!! (otherwise all rows will be deleted)\n",
    "'''DELETE FROM table_name WHERE user_i = 10'''\n",
    "\n",
    "# sqlite_master is in all sqlite databases and contains info about all tables in the db\n",
    "'''SELECT * FROM sqlite_master'''"
   ]
  },
  {
   "cell_type": "markdown",
   "id": "8033a1b2",
   "metadata": {},
   "source": [
    "#### Create SQL table"
   ]
  },
  {
   "cell_type": "code",
   "execution_count": 3,
   "id": "dcc893be",
   "metadata": {
    "scrolled": true
   },
   "outputs": [
    {
     "name": "stdout",
     "output_type": "stream",
     "text": [
      "(101, 'University of Illinois', 'Urbana', 'Illinois', 1867)\n",
      "(202, 'University of Iowa', 'Iowa City', 'Iowa', 1847)\n",
      "(303, 'University of Minnesota', 'Minneapolis', 'Minnesota', 1851)\n",
      "(404, 'University of Nebraska', 'Lincoln', 'Nebraska', 1869)\n",
      "(505, 'Northwestern University', 'Evanston', 'Illinois', 1851)\n",
      "(606, 'Purdue University', 'West Lafayette', 'Indiana', 1869)\n",
      "(707, 'University of Wisconsin', 'Madison', 'Wisconsin', 1849)\n",
      "['ID', 'University', 'City', 'State', 'Founded']\n"
     ]
    }
   ],
   "source": [
    "conn = sqlite3.connect('./help/big10.db')\n",
    "c = conn.cursor()\n",
    "\n",
    "# Double quotes are the norm in most of the python programs. \n",
    "# Triple quotes are used mostly when you have a big multi-line string \n",
    "# copy-pasted from somewhere else and you want to embed them in your program.\n",
    "c.execute('''CREATE TABLE t_big10west (ID, University, City, State, Founded)''')\n",
    "\n",
    "universities = [(101, 'University of Illinois', 'Urbana', 'Illinois', 1867),\n",
    "                (202, 'University of Iowa', 'Iowa City', 'Iowa', 1847),\n",
    "                (303, 'University of Minnesota', 'Minneapolis', 'Minnesota', 1851),\n",
    "                (404, 'University of Nebraska', 'Lincoln', 'Nebraska', 1869),\n",
    "                (505, 'Northwestern University', 'Evanston', 'Illinois', 1851),\n",
    "                (606, 'Purdue University', 'West Lafayette', 'Indiana', 1869),\n",
    "                (707, 'University of Wisconsin', 'Madison', 'Wisconsin', 1849)]\n",
    "c.executemany('INSERT INTO t_big10west VALUES (?,?,?,?,?)', universities)\n",
    "conn.commit()\n",
    "\n",
    "# get all rows\n",
    "for row in c.execute('''SELECT * FROM t_big10west'''):\n",
    "    print(row)\n",
    "\n",
    "# print column names\n",
    "print([desc[0] for desc in c.description])\n",
    "    \n",
    "conn.close()"
   ]
  },
  {
   "cell_type": "markdown",
   "id": "82a04ccf",
   "metadata": {},
   "source": [
    "#### Chaning the mistake"
   ]
  },
  {
   "cell_type": "code",
   "execution_count": 4,
   "id": "28a54137",
   "metadata": {},
   "outputs": [],
   "source": [
    "conn = sqlite3.connect('./help/big10.db')\n",
    "c = conn.cursor()\n",
    "\n",
    "c.execute('UPDATE t_big10west SET Founded=1848 WHERE ID=707')\n",
    "conn.commit()\n",
    "\n",
    "conn.close()"
   ]
  },
  {
   "cell_type": "markdown",
   "id": "66b17d01",
   "metadata": {},
   "source": [
    "#### Get all rows "
   ]
  },
  {
   "cell_type": "code",
   "execution_count": 5,
   "id": "c82fa1b4",
   "metadata": {},
   "outputs": [
    {
     "name": "stdout",
     "output_type": "stream",
     "text": [
      "(101, 'University of Illinois', 'Urbana', 'Illinois', 1867)\n",
      "(202, 'University of Iowa', 'Iowa City', 'Iowa', 1847)\n",
      "(303, 'University of Minnesota', 'Minneapolis', 'Minnesota', 1851)\n",
      "(404, 'University of Nebraska', 'Lincoln', 'Nebraska', 1869)\n",
      "(505, 'Northwestern University', 'Evanston', 'Illinois', 1851)\n",
      "(606, 'Purdue University', 'West Lafayette', 'Indiana', 1869)\n",
      "(707, 'University of Wisconsin', 'Madison', 'Wisconsin', 1848)\n"
     ]
    }
   ],
   "source": [
    "conn = sqlite3.connect('./help/big10.db')\n",
    "c = conn.cursor()\n",
    "\n",
    "# get all rows\n",
    "for row in c.execute('SELECT * FROM t_big10west'):\n",
    "    print(row)\n",
    "    \n",
    "conn.close()"
   ]
  },
  {
   "cell_type": "markdown",
   "id": "64dd9188",
   "metadata": {},
   "source": [
    "## Chinook database"
   ]
  },
  {
   "cell_type": "code",
   "execution_count": 6,
   "id": "ec4d5514",
   "metadata": {
    "scrolled": false
   },
   "outputs": [
    {
     "name": "stdout",
     "output_type": "stream",
     "text": [
      "Number of tables:  11\n",
      "Table names:  ['Album', 'Artist', 'Customer', 'Employee', 'Genre', 'Invoice', 'InvoiceLine', 'MediaType', 'Playlist', 'PlaylistTrack', 'Track']\n"
     ]
    }
   ],
   "source": [
    "conn = sqlite3.connect('./help/Chinook_Sqlite.sqlite')\n",
    "c = conn.cursor()\n",
    "\n",
    "# count number of tables\n",
    "n_tables = 0\n",
    "table_names = []\n",
    "for table in c.execute('SELECT * FROM sqlite_master'):\n",
    "    # if it is a table\n",
    "    if table[0] == 'table':\n",
    "        n_tables += 1\n",
    "        table_names.append(table[1])\n",
    "    \n",
    "print('Number of tables: ', n_tables)\n",
    "print('Table names: ', table_names)\n",
    "    \n",
    "conn.close()"
   ]
  },
  {
   "cell_type": "markdown",
   "id": "432e7a9d",
   "metadata": {},
   "source": [
    "#### Functions with the db"
   ]
  },
  {
   "cell_type": "code",
   "execution_count": 7,
   "id": "18758287",
   "metadata": {},
   "outputs": [],
   "source": [
    "def is_string(value):\n",
    "    return isinstance(value, str)   "
   ]
  },
  {
   "cell_type": "markdown",
   "id": "36b44529",
   "metadata": {},
   "source": [
    "#### Get primary keys of tables that start from a specific character (not case sensitive)"
   ]
  },
  {
   "cell_type": "code",
   "execution_count": 8,
   "id": "05579208",
   "metadata": {},
   "outputs": [
    {
     "data": {
      "text/plain": [
       "['PK_Album', 'PK_Artist']"
      ]
     },
     "execution_count": 8,
     "metadata": {},
     "output_type": "execute_result"
    }
   ],
   "source": [
    "def list_table_ids_by_letter(char):\n",
    "    '''\n",
    "        Function takes as a single character \"char\" and returns a list of primary keys of tables,\n",
    "        which name starts from character \"char\" (ignoring cases)\n",
    "    '''\n",
    "    \n",
    "    if not is_string(char):\n",
    "        raise TypeError('Input should be a type string')\n",
    "        \n",
    "    if len(char) != 1:\n",
    "        raise ValueError('Input should be a single character')\n",
    "        \n",
    "    char = char.lower()\n",
    "    \n",
    "    # if not alphabetic\n",
    "    if not char.isalpha():\n",
    "        raise ValueError('Input should be alphabetic')\n",
    "\n",
    "    # read the db\n",
    "    conn = sqlite3.connect('./help/Chinook_Sqlite.sqlite')\n",
    "    c = conn.cursor()\n",
    "\n",
    "    table_names = []\n",
    "    for table in c.execute('SELECT * FROM sqlite_master'):\n",
    "        # if it is a table\n",
    "        if table[0] == 'table' and table[1][0].lower() == char:\n",
    "            # get the location of \"constraint\" keyword\n",
    "            constr_loc = table[4].find('CONSTRAINT')\n",
    "            # add to the list the name of the primary key (which is in a substring before ']' character)\n",
    "            table_names.append(table[4][constr_loc + 12:].partition(']')[0])\n",
    "\n",
    "    conn.close()\n",
    "    \n",
    "    return table_names\n",
    "        \n",
    "list_table_ids_by_letter('a')"
   ]
  },
  {
   "cell_type": "markdown",
   "id": "4dbcc5ef",
   "metadata": {},
   "source": [
    "#### Get primary keys of albums which title starts from a specific character (not case sensitive)"
   ]
  },
  {
   "cell_type": "code",
   "execution_count": 9,
   "id": "0fa7330a",
   "metadata": {},
   "outputs": [
    {
     "name": "stdout",
     "output_type": "stream",
     "text": [
      "(86, 'Quanta Gente Veio Ver (Live)', 27)\n",
      "(87, 'Quanta Gente Veio ver--Bônus De Carnaval', 27)\n",
      "(262, 'Quiet Songs', 197)\n"
     ]
    },
    {
     "data": {
      "text/plain": [
       "[86, 87, 262]"
      ]
     },
     "execution_count": 9,
     "metadata": {},
     "output_type": "execute_result"
    }
   ],
   "source": [
    "def list_album_ids_by_letter(char):\n",
    "    '''\n",
    "        Function takes as a single character \"char\" and returns a list of primary keys of Album table,\n",
    "        which album's title starts from character \"char\" (ignoring cases)\n",
    "    '''\n",
    "    \n",
    "    if not is_string(char):\n",
    "        raise TypeError('Input should be a type string')\n",
    "        \n",
    "    if len(char) != 1:\n",
    "        raise ValueError('Input should be a single character')\n",
    "        \n",
    "    char = char.lower()\n",
    "    \n",
    "    # if not alphabetic\n",
    "    if not char.isalpha():\n",
    "        raise ValueError('Input should be alphabetic')\n",
    "\n",
    "    # read the db\n",
    "    conn = sqlite3.connect('./help/Chinook_Sqlite.sqlite')\n",
    "    c = conn.cursor()\n",
    "\n",
    "    album_names = []\n",
    "    for row in c.execute('SELECT * FROM Album WHERE Title LIKE \"' + char + '%\" OR Title LIKE \"' + char.upper() + '%\"'):\n",
    "        print(row)\n",
    "        album_names.append(row[0])\n",
    "\n",
    "    conn.close()\n",
    "    \n",
    "    return album_names\n",
    "        \n",
    "list_album_ids_by_letter('q')"
   ]
  },
  {
   "cell_type": "markdown",
   "id": "f735fd9a",
   "metadata": {},
   "source": [
    "#### Get primary keys of tracks which album title starts from a specific character (not case sensitive)"
   ]
  },
  {
   "cell_type": "code",
   "execution_count": 10,
   "id": "e7943b51",
   "metadata": {},
   "outputs": [
    {
     "name": "stdout",
     "output_type": "stream",
     "text": [
      "(1087, 'Introdução (Live)', 86, 1, 7, None, 154096, 5227579, 0.99, 86, 'Quanta Gente Veio Ver (Live)', 27)\n",
      "(1088, 'Palco (Live)', 86, 1, 7, None, 238315, 8026622, 0.99, 86, 'Quanta Gente Veio Ver (Live)', 27)\n",
      "(1089, 'Is This Love (Live)', 86, 1, 7, None, 295262, 9819759, 0.99, 86, 'Quanta Gente Veio Ver (Live)', 27)\n",
      "(1090, 'Stir It Up (Live)', 86, 1, 7, None, 282409, 9594738, 0.99, 86, 'Quanta Gente Veio Ver (Live)', 27)\n",
      "(1091, 'Refavela (Live)', 86, 1, 7, None, 236695, 7985305, 0.99, 86, 'Quanta Gente Veio Ver (Live)', 27)\n",
      "(1092, 'Vendedor De Caranguejo (Live)', 86, 1, 7, None, 248842, 8358128, 0.99, 86, 'Quanta Gente Veio Ver (Live)', 27)\n",
      "(1093, 'Quanta (Live)', 86, 1, 7, None, 357485, 11774865, 0.99, 86, 'Quanta Gente Veio Ver (Live)', 27)\n",
      "(1094, 'Estrela (Live)', 86, 1, 7, None, 285309, 9436411, 0.99, 86, 'Quanta Gente Veio Ver (Live)', 27)\n",
      "(1095, 'Pela Internet (Live)', 86, 1, 7, None, 263471, 8804401, 0.99, 86, 'Quanta Gente Veio Ver (Live)', 27)\n",
      "(1096, 'Cérebro Eletrônico (Live)', 86, 1, 7, None, 231627, 7805352, 0.99, 86, 'Quanta Gente Veio Ver (Live)', 27)\n",
      "(1097, 'Opachorô (Live)', 86, 1, 7, None, 259526, 8596384, 0.99, 86, 'Quanta Gente Veio Ver (Live)', 27)\n",
      "(1098, 'Copacabana (Live)', 86, 1, 7, None, 289671, 9673672, 0.99, 86, 'Quanta Gente Veio Ver (Live)', 27)\n",
      "(1099, 'A Novidade (Live)', 86, 1, 7, None, 316969, 10508000, 0.99, 86, 'Quanta Gente Veio Ver (Live)', 27)\n",
      "(1100, 'Ghandi (Live)', 86, 1, 7, None, 222458, 7481950, 0.99, 86, 'Quanta Gente Veio Ver (Live)', 27)\n",
      "(1101, 'De Ouro E Marfim (Live)', 86, 1, 7, None, 234971, 7838453, 0.99, 86, 'Quanta Gente Veio Ver (Live)', 27)\n",
      "(1102, 'Doce De Carnaval (Candy All)', 87, 1, 2, None, 356101, 11998470, 0.99, 87, 'Quanta Gente Veio ver--Bônus De Carnaval', 27)\n",
      "(1103, 'Lamento De Carnaval', 87, 1, 2, None, 294530, 9819276, 0.99, 87, 'Quanta Gente Veio ver--Bônus De Carnaval', 27)\n",
      "(1104, 'Pretinha', 87, 1, 2, None, 265273, 8914579, 0.99, 87, 'Quanta Gente Veio ver--Bônus De Carnaval', 27)\n",
      "(3349, 'Amanda', 262, 5, 2, 'Luca Gusella', 246503, 4011615, 0.99, 262, 'Quiet Songs', 197)\n",
      "(3350, 'Despertar', 262, 5, 2, 'Andrea Dulbecco', 307385, 4821485, 0.99, 262, 'Quiet Songs', 197)\n"
     ]
    },
    {
     "data": {
      "text/plain": [
       "[1087,\n",
       " 1088,\n",
       " 1089,\n",
       " 1090,\n",
       " 1091,\n",
       " 1092,\n",
       " 1093,\n",
       " 1094,\n",
       " 1095,\n",
       " 1096,\n",
       " 1097,\n",
       " 1098,\n",
       " 1099,\n",
       " 1100,\n",
       " 1101,\n",
       " 1102,\n",
       " 1103,\n",
       " 1104,\n",
       " 3349,\n",
       " 3350]"
      ]
     },
     "execution_count": 10,
     "metadata": {},
     "output_type": "execute_result"
    }
   ],
   "source": [
    "def list_song_ids_by_album_letter(char):\n",
    "    '''\n",
    "        Function takes as a single character \"char\" and returns a list of primary keys of Track table,\n",
    "        whose album names begin with that letter\n",
    "    '''\n",
    "    \n",
    "    if not is_string(char):\n",
    "        raise TypeError('Input should be a type string')\n",
    "        \n",
    "    if len(char) != 1:\n",
    "        raise ValueError('Input should be a single character')\n",
    "        \n",
    "    char = char.lower()\n",
    "    \n",
    "    # if not alphabetic\n",
    "    if not char.isalpha():\n",
    "        raise ValueError('Input should be alphabetic')\n",
    "\n",
    "    # read the db\n",
    "    conn = sqlite3.connect('./help/Chinook_Sqlite.sqlite')\n",
    "    c = conn.cursor()\n",
    "\n",
    "    album_names = []\n",
    "    for row in c.execute('SELECT * FROM Track LEFT JOIN Album ON Track.AlbumId = Album.AlbumId WHERE (Album.Title LIKE \"' + char + '%\" OR Album.Title LIKE \"' + char.upper() + '%\")'):\n",
    "        # print(c.description)\n",
    "        print(row)\n",
    "        album_names.append(row[0])\n",
    "\n",
    "    conn.close()\n",
    "    \n",
    "    return album_names\n",
    "        \n",
    "list_song_ids_by_album_letter('q')"
   ]
  },
  {
   "cell_type": "markdown",
   "id": "58a0cf06",
   "metadata": {},
   "source": [
    "#### Get cost of buying all songs of albums which title starts from a specific character (not case sensitive)"
   ]
  },
  {
   "cell_type": "code",
   "execution_count": 11,
   "id": "0c6f9901",
   "metadata": {},
   "outputs": [
    {
     "data": {
      "text/plain": [
       "[19.799999999999997]"
      ]
     },
     "execution_count": 11,
     "metadata": {},
     "output_type": "execute_result"
    }
   ],
   "source": [
    "def total_cost_by_album_letter(char):\n",
    "    '''\n",
    "        Function takes as a single character \"char\" and returns a cost of buying all songs from album,\n",
    "        whose title begins with that letter\n",
    "    '''\n",
    "    \n",
    "    if not is_string(char):\n",
    "        raise TypeError('Input should be a type string')\n",
    "        \n",
    "    if len(char) != 1:\n",
    "        raise ValueError('Input should be a single character')\n",
    "        \n",
    "    char = char.lower()\n",
    "    \n",
    "    # if not alphabetic\n",
    "    if not char.isalpha():\n",
    "        raise ValueError('Input should be alphabetic')\n",
    "\n",
    "    # read the db\n",
    "    conn = sqlite3.connect('./help/Chinook_Sqlite.sqlite')\n",
    "    c = conn.cursor()\n",
    "\n",
    "    album_names = []\n",
    "    for row in c.execute('SELECT SUM(Track.UnitPrice) FROM Track LEFT JOIN Album ON Track.AlbumId = Album.AlbumId WHERE (Album.Title LIKE \"' + char + '%\" OR Album.Title LIKE \"' + char.upper() + '%\")'):\n",
    "        album_names.append(row[0])\n",
    "\n",
    "    conn.close()\n",
    "    \n",
    "    return album_names\n",
    "        \n",
    "total_cost_by_album_letter('q')"
   ]
  }
 ],
 "metadata": {
  "kernelspec": {
   "display_name": "Python 3",
   "language": "python",
   "name": "python3"
  },
  "language_info": {
   "codemirror_mode": {
    "name": "ipython",
    "version": 3
   },
   "file_extension": ".py",
   "mimetype": "text/x-python",
   "name": "python",
   "nbconvert_exporter": "python",
   "pygments_lexer": "ipython3",
   "version": "3.7.10"
  }
 },
 "nbformat": 4,
 "nbformat_minor": 5
}
