{
 "cells": [
  {
   "cell_type": "markdown",
   "id": "a7160a89",
   "metadata": {},
   "source": [
    "## SQL"
   ]
  },
  {
   "cell_type": "markdown",
   "id": "d0f1a342",
   "metadata": {},
   "source": [
    "#### Libraries"
   ]
  },
  {
   "cell_type": "code",
   "execution_count": 1,
   "id": "b2ca7a54",
   "metadata": {},
   "outputs": [],
   "source": [
    "import sqlite3"
   ]
  },
  {
   "cell_type": "markdown",
   "id": "673c94a0",
   "metadata": {},
   "source": [
    "#### SQL syntax"
   ]
  },
  {
   "cell_type": "code",
   "execution_count": 2,
   "id": "c6985fc2",
   "metadata": {},
   "outputs": [
    {
     "data": {
      "text/plain": [
       "'DELETE FROM table_name WHERE user_i = 10'"
      ]
     },
     "execution_count": 2,
     "metadata": {},
     "output_type": "execute_result"
    }
   ],
   "source": [
    "# retrieving info\n",
    "'''SELECT column_name_1, column_name_2 FROM table_name'''\n",
    "\n",
    "# filtering\n",
    "# =: eq\n",
    "# <>: not equal\n",
    "# >: gt\n",
    "# <: lt\n",
    "# >=: gteq\n",
    "# <=: lteq\n",
    "# BETWEEN ... AND ...: range\n",
    "'''SELECT column_name_1, column_name_2 FROM table_name WHERE price > 10'''\n",
    "\n",
    "# NULL is empty\n",
    "'''SELECT column_name_1, column_name_2 FROM table_name WHERE price = NULL'''\n",
    "\n",
    "# order by ASC or DESC\n",
    "'''SELECT column_name_1, column_name_2 FROM table_name ORDER BY price ASC'''\n",
    "\n",
    "# distinct values (also possible to have distinct 2 or more columns)\n",
    "'''SELECT DISTINCT column_name_1 FROM table_name'''\n",
    "\n",
    "# regex filtering\n",
    "'''SELECT column_name_1 FROM table_name WHERE major IN (\"Physics\", \"Mathematics\")'''\n",
    "'''SELECT column_name_1 FROM table_name WHERE major NOT IN (\"Computer Science\")'''\n",
    "# like ('_' as only 1 char or '%' as any number of char)\n",
    "# major starts with C\n",
    "'''SELECT column_name_1 FROM table_name WHERE major LIKE \"C%\"'''\n",
    "# major has C_mputer structure, and any char can be instead of _ (not only 1)\n",
    "'''SELECT column_name_1 FROM table_name WHERE major LIKE \"C_mputer\"''' \n",
    "\n",
    "# aggregate functions (SUM, MIN, MAX, AVG, COUNT)\n",
    "'''SELECT SUM(column_name_1) FROM table_name''' \n",
    "\n",
    "# group by some column\n",
    "'''SELECT SUM(column_name_1) FROM table_name GROUP BY customer_id''' \n",
    "# group by year and count how many entries for each year\n",
    "'''SELECT Founded, COUNT(*) FROM t_big10west GROUP BY Founded'''\n",
    "\n",
    "# filtering after group by\n",
    "# WHERE applied for original table; HAVING applied for a new table and creating another table\n",
    "'''SELECT SUM(column_name_1) FROM table_name GROUP BY customer_id HAVING price > 10''' \n",
    "\n",
    "# AS to save a temporary variable \n",
    "'''SELECT SUM(column_name_1) AS sum_of_smt FROM table_name GROUP BY customer_id HAVING price > 10'''\n",
    "\n",
    "# join several tables:\n",
    "# (INNER) JOIN: output table will have entries which are only in both tables at the same time\n",
    "# LEFT JOIN: output table will have entries which are in left tables\n",
    "# RIGHT JOIN: output table will have entries which are in right tables\n",
    "# FULL JOIN: output table will have entries which are in left and right tables\n",
    "'''SELECT table_1_column_3, table_2_column_7 FROM table_name_1 LEFT JOIN table_name_2 ON table_1_column_4 > 10'''\n",
    "\n",
    "# creating a table. datatype is optional\n",
    "'''CREATE TABLE table_name [col1 datatype, col2 datatype]'''\n",
    "# delete table\n",
    "'''DROP TABLE table_name'''\n",
    "\n",
    "# insert new row. [col1, col2] is optional, if giving all values\n",
    "'''INSERT INTO table_name [col1, col2] VALUES value1, value2'''\n",
    "# update row. WHERE is mandatory!!! (otherwise all rows will be modified)\n",
    "'''UPDATE table_name SET col1=value1, col3=value3 WHERE user_i = 10'''\n",
    "# delete row. WHERE is mandatory!!! (otherwise all rows will be deleted)\n",
    "'''DELETE FROM table_name WHERE user_i = 10'''"
   ]
  },
  {
   "cell_type": "markdown",
   "id": "8033a1b2",
   "metadata": {},
   "source": [
    "#### Create SQL table"
   ]
  },
  {
   "cell_type": "code",
   "execution_count": 3,
   "id": "dcc893be",
   "metadata": {
    "scrolled": true
   },
   "outputs": [
    {
     "name": "stdout",
     "output_type": "stream",
     "text": [
      "(101, 'University of Illinois', 'Urbana', 'Illinois', 1867)\n",
      "(202, 'University of Iowa', 'Iowa City', 'Iowa', 1847)\n",
      "(303, 'University of Minnesota', 'Minneapolis', 'Minnesota', 1851)\n",
      "(404, 'University of Nebraska', 'Lincoln', 'Nebraska', 1869)\n",
      "(505, 'Northwestern University', 'Evanston', 'Illinois', 1851)\n",
      "(606, 'Purdue University', 'West Lafayette', 'Indiana', 1869)\n",
      "(707, 'University of Wisconsin', 'Madison', 'Wisconsin', 1849)\n",
      "['ID', 'University', 'City', 'State', 'Founded']\n"
     ]
    }
   ],
   "source": [
    "conn = sqlite3.connect('./help/big10.db')\n",
    "c = conn.cursor()\n",
    "\n",
    "# Double quotes are the norm in most of the python programs. \n",
    "# Triple quotes are used mostly when you have a big multi-line string \n",
    "# copy-pasted from somewhere else and you want to embed them in your program.\n",
    "c.execute('''CREATE TABLE t_big10west (ID, University, City, State, Founded)''')\n",
    "\n",
    "universities = [(101, 'University of Illinois', 'Urbana', 'Illinois', 1867),\n",
    "                (202, 'University of Iowa', 'Iowa City', 'Iowa', 1847),\n",
    "                (303, 'University of Minnesota', 'Minneapolis', 'Minnesota', 1851),\n",
    "                (404, 'University of Nebraska', 'Lincoln', 'Nebraska', 1869),\n",
    "                (505, 'Northwestern University', 'Evanston', 'Illinois', 1851),\n",
    "                (606, 'Purdue University', 'West Lafayette', 'Indiana', 1869),\n",
    "                (707, 'University of Wisconsin', 'Madison', 'Wisconsin', 1849)]\n",
    "c.executemany('INSERT INTO t_big10west VALUES (?,?,?,?,?)', universities)\n",
    "conn.commit()\n",
    "\n",
    "# get all rows\n",
    "for row in c.execute('''SELECT * FROM t_big10west'''):\n",
    "    print(row)\n",
    "\n",
    "# print column names\n",
    "print([desc[0] for desc in c.description])\n",
    "    \n",
    "conn.close()"
   ]
  },
  {
   "cell_type": "markdown",
   "id": "d64b0252",
   "metadata": {},
   "source": [
    "#### Chaning the mistake"
   ]
  },
  {
   "cell_type": "code",
   "execution_count": 4,
   "id": "42f326a9",
   "metadata": {},
   "outputs": [],
   "source": [
    "conn = sqlite3.connect('./help/big10.db')\n",
    "c = conn.cursor()\n",
    "\n",
    "c.execute('UPDATE t_big10west SET Founded=1848 WHERE ID=707')\n",
    "conn.commit()\n",
    "\n",
    "conn.close()"
   ]
  },
  {
   "cell_type": "markdown",
   "id": "8841673b",
   "metadata": {},
   "source": [
    "#### Get all rows "
   ]
  },
  {
   "cell_type": "code",
   "execution_count": 5,
   "id": "9da7fcf2",
   "metadata": {},
   "outputs": [
    {
     "name": "stdout",
     "output_type": "stream",
     "text": [
      "(101, 'University of Illinois', 'Urbana', 'Illinois', 1867)\n",
      "(202, 'University of Iowa', 'Iowa City', 'Iowa', 1847)\n",
      "(303, 'University of Minnesota', 'Minneapolis', 'Minnesota', 1851)\n",
      "(404, 'University of Nebraska', 'Lincoln', 'Nebraska', 1869)\n",
      "(505, 'Northwestern University', 'Evanston', 'Illinois', 1851)\n",
      "(606, 'Purdue University', 'West Lafayette', 'Indiana', 1869)\n",
      "(707, 'University of Wisconsin', 'Madison', 'Wisconsin', 1848)\n"
     ]
    }
   ],
   "source": [
    "conn = sqlite3.connect('./help/big10.db')\n",
    "c = conn.cursor()\n",
    "\n",
    "# get all rows\n",
    "for row in c.execute('SELECT * FROM t_big10west'):\n",
    "    print(row)\n",
    "    \n",
    "conn.close()"
   ]
  }
 ],
 "metadata": {
  "kernelspec": {
   "display_name": "Python 3",
   "language": "python",
   "name": "python3"
  },
  "language_info": {
   "codemirror_mode": {
    "name": "ipython",
    "version": 3
   },
   "file_extension": ".py",
   "mimetype": "text/x-python",
   "name": "python",
   "nbconvert_exporter": "python",
   "pygments_lexer": "ipython3",
   "version": "3.7.10"
  }
 },
 "nbformat": 4,
 "nbformat_minor": 5
}
