{
 "cells": [
  {
   "cell_type": "markdown",
   "id": "a7160a89",
   "metadata": {},
   "source": [
    "## <i> mrjob</i>"
   ]
  },
  {
   "cell_type": "markdown",
   "id": "d46ead8f",
   "metadata": {},
   "source": [
    "<i>Info: </i> combiner is used on the same machine as a mapper. It is usefull as less data should be passed to reducer (which is another machine). Additionally, combiner sees only a part of data, so the same operation should be performed on combiner and reducer."
   ]
  },
  {
   "cell_type": "markdown",
   "id": "d0f1a342",
   "metadata": {},
   "source": [
    "#### Libraries"
   ]
  },
  {
   "cell_type": "code",
   "execution_count": 1,
   "id": "b2ca7a54",
   "metadata": {},
   "outputs": [],
   "source": [
    "from mrjob.job import MRJob\n",
    "from mrjob.step import MRStep\n",
    "import re\n",
    "import pandas as pd\n",
    "import matplotlib.pyplot as plt"
   ]
  },
  {
   "cell_type": "markdown",
   "id": "ba6a730b",
   "metadata": {},
   "source": [
    "#### Help functions/variable"
   ]
  },
  {
   "cell_type": "code",
   "execution_count": 2,
   "id": "8fadf3b5",
   "metadata": {},
   "outputs": [],
   "source": [
    "WORD_RE = re.compile(r\"[\\w']+\")"
   ]
  },
  {
   "cell_type": "markdown",
   "id": "e37ee955",
   "metadata": {},
   "source": [
    "#### Show all words in the text and count its number using MapReduce"
   ]
  },
  {
   "cell_type": "code",
   "execution_count": null,
   "id": "198ede30",
   "metadata": {},
   "outputs": [],
   "source": [
    "class MRWC(MRJob):\n",
    "    \n",
    "    def steps(self):\n",
    "        return [\n",
    "            MRStep(mapper=self.mapper_get_words,\n",
    "                   combiner=self.combiner_count_words,\n",
    "                   reducer=self.reduce_count_words)\n",
    "            \n",
    "        ]\n",
    "    \n",
    "    def mapper_get_words(self, _, line):\n",
    "        for word in WORD_RE.findall(line):\n",
    "            yield (word.lower(), 1)\n",
    "    \n",
    "    def combiner_count_words(self, words, count):\n",
    "        yield (words, sum(count))\n",
    "    \n",
    "    def reduce_count_words(self, words, count):\n",
    "        yield (words, sum(count))\n",
    "\n",
    "\n",
    "if __name__ == \"__main__\":\n",
    "    MRWC.run()"
   ]
  },
  {
   "cell_type": "markdown",
   "id": "a692f4f2",
   "metadata": {},
   "source": [
    "#### Find most used word and its count using MapReduce"
   ]
  },
  {
   "cell_type": "code",
   "execution_count": null,
   "id": "9076ae4d",
   "metadata": {},
   "outputs": [],
   "source": [
    "class MRWC(MRJob):\n",
    "    \n",
    "    def steps(self):\n",
    "        return [\n",
    "            MRStep(mapper=self.mapper_get_words,\n",
    "                   combiner=self.combiner_count_words,\n",
    "                   reducer=self.reduce_count_words),\n",
    "            MRStep(reducer=self.reduce_find_max_word)\n",
    "        ]\n",
    "    \n",
    "    def mapper_get_words(self, _, line):\n",
    "        for word in WORD_RE.findall(line):\n",
    "            yield (word.lower(), 1)\n",
    "    \n",
    "    def combiner_count_words(self, words, count):\n",
    "        yield (words, sum(count))\n",
    "    \n",
    "    def reduce_count_words(self, words, count):\n",
    "        yield None, (sum(count), words)\n",
    "    \n",
    "    def reduce_find_max_word(self, _, word_count_pairs):\n",
    "        yield max(word_count_pairs)\n",
    "\n",
    "\n",
    "if __name__ == \"__main__\":\n",
    "    MRWC.run()"
   ]
  },
  {
   "cell_type": "markdown",
   "id": "3d2796bd",
   "metadata": {},
   "source": [
    "#### Working with GCP"
   ]
  },
  {
   "cell_type": "code",
   "execution_count": null,
   "id": "5471ce46",
   "metadata": {},
   "outputs": [],
   "source": [
    "# copy files from bucket\n",
    "gsutil cp gs://bucket_name/simple.txt .\n",
    "    \n",
    "# redirect output and errors to separate files but also show in console\n",
    "python2 mr_word_count.py -r dataproc text_template.txt 1> >(tee hadoop.simple.out) 2> >(tee hadoop.simple.log)\n",
    "\n",
    "# copy outputs \n",
    "gsutil cp ./hadoop.simple.log  gs://bucket_name/"
   ]
  },
  {
   "cell_type": "markdown",
   "id": "a85ee5f2",
   "metadata": {},
   "source": [
    "#### Plot Zipf’s law graph (if one plots word frequency against frequency rank, the resulting line is linear (almost) on a log-log scale)"
   ]
  },
  {
   "cell_type": "code",
   "execution_count": 3,
   "id": "7f900394",
   "metadata": {},
   "outputs": [],
   "source": [
    "# get data that was obtained using GCP\n",
    "df = pd.read_csv('./help/hadoop.simple.out', delimiter = \"\\t\", header=None)"
   ]
  },
  {
   "cell_type": "code",
   "execution_count": 4,
   "id": "bbb8752f",
   "metadata": {},
   "outputs": [],
   "source": [
    "# sort values\n",
    "df = df.sort_values(by=1, ascending=False)"
   ]
  },
  {
   "cell_type": "code",
   "execution_count": 5,
   "id": "b20338fe",
   "metadata": {},
   "outputs": [
    {
     "data": {
      "image/png": "[encoded data removed]",
      "text/plain": [
       "<Figure size 432x288 with 1 Axes>"
      ]
     },
     "metadata": {
      "needs_background": "light"
     },
     "output_type": "display_data"
    }
   ],
   "source": [
    "# plot\n",
    "plt.plot(range(1, len(df) + 1), df[1])\n",
    "plt.title('Zipf’s law')\n",
    "\n",
    "_ = plt.loglog()"
   ]
  },
  {
   "cell_type": "markdown",
   "id": "87728789",
   "metadata": {},
   "source": [
    "#### Calculater the number of samples for each label, its mean and variance\n",
    "\n",
    "Variance can be calculated using the following formula:"
   ]
  },
  {
   "cell_type": "markdown",
   "id": "1fa2b204",
   "metadata": {},
   "source": [
    "$$\\sigma^2 = \\frac{\\sum_{} X^2}{N} - \\mu^2 $$"
   ]
  },
  {
   "cell_type": "markdown",
   "id": "b36e1db5",
   "metadata": {},
   "source": [
    "You take the sum of the squares of the terms in the distribution, and divide by the number of terms in the distribution (N). From this, you subtract the square of the mean (μ2)."
   ]
  },
  {
   "cell_type": "code",
   "execution_count": null,
   "id": "285cde29",
   "metadata": {},
   "outputs": [],
   "source": [
    "class MRWC(MRJob):\n",
    "    \n",
    "    def steps(self):\n",
    "        return [\n",
    "            MRStep(mapper=self.mapper_in,\n",
    "                   reducer=self.reduce_sum_values),\n",
    "            MRStep(reducer=self.reduce_calc_mean_var)\n",
    "        ]\n",
    "    \n",
    "    def mapper_in(self, _, line):\n",
    "        label = line.split()[0]\n",
    "        value = float(line.split()[1])\n",
    "        \n",
    "        yield label, [1, value, value**2]\n",
    "    \n",
    "    def reduce_sum_values(self, label, values):\n",
    "        sum_of_el = 0\n",
    "        sum_of_elem = 0\n",
    "        sum_of_elem_sq = 0\n",
    "        \n",
    "        for elem in values:\n",
    "            sum_of_el += elem[0]\n",
    "            sum_of_elem += elem[1]\n",
    "            sum_of_elem_sq += elem[2]\n",
    "            \n",
    "        yield label, [sum_of_el, sum_of_elem, sum_of_elem_sq]\n",
    "    \n",
    "    def reduce_calc_mean_var(self, label, values):\n",
    "        # value[0] - num_of_samples\n",
    "        # value[1] - sum of elem\n",
    "        # value[2] - sum of elem^2\n",
    "        \n",
    "        values_list = list(values)[0]\n",
    "        \n",
    "        num_of_samples = values_list[0]\n",
    "        mean = values_list[1] / num_of_samples\n",
    "        var = (values_list[2] / num_of_samples) - mean**2\n",
    "        \n",
    "        yield label, [num_of_samples, mean, var]\n",
    "\n",
    "\n",
    "if __name__ == \"__main__\":\n",
    "    MRWC.run()"
   ]
  }
 ],
 "metadata": {
  "kernelspec": {
   "display_name": "Python 3",
   "language": "python",
   "name": "python3"
  },
  "language_info": {
   "codemirror_mode": {
    "name": "ipython",
    "version": 3
   },
   "file_extension": ".py",
   "mimetype": "text/x-python",
   "name": "python",
   "nbconvert_exporter": "python",
   "pygments_lexer": "ipython3",
   "version": "3.7.10"
  }
 },
 "nbformat": 4,
 "nbformat_minor": 5
}
